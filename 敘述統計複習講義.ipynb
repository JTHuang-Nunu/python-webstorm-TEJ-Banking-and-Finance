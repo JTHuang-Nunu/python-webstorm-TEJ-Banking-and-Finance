{
 "cells": [
  {
   "cell_type": "code",
   "execution_count": 1,
   "id": "f7fb3b17",
   "metadata": {},
   "outputs": [],
   "source": [
    "#呼叫所需套件\n",
    "import pandas as pd\n",
    "import numpy as np\n",
    "from scipy import stats"
   ]
  },
  {
   "cell_type": "code",
   "execution_count": 2,
   "id": "ca516bab",
   "metadata": {},
   "outputs": [
    {
     "data": {
      "text/html": [
       "<div>\n",
       "<style scoped>\n",
       "    .dataframe tbody tr th:only-of-type {\n",
       "        vertical-align: middle;\n",
       "    }\n",
       "\n",
       "    .dataframe tbody tr th {\n",
       "        vertical-align: top;\n",
       "    }\n",
       "\n",
       "    .dataframe thead th {\n",
       "        text-align: right;\n",
       "    }\n",
       "</style>\n",
       "<table border=\"1\" class=\"dataframe\">\n",
       "  <thead>\n",
       "    <tr style=\"text-align: right;\">\n",
       "      <th></th>\n",
       "      <th>ID</th>\n",
       "      <th>NAME</th>\n",
       "      <th>DATE</th>\n",
       "      <th>Y</th>\n",
       "      <th>M</th>\n",
       "      <th>D</th>\n",
       "      <th>CLOSE</th>\n",
       "      <th>RETURN</th>\n",
       "      <th>Unnamed: 8</th>\n",
       "      <th>Unnamed: 9</th>\n",
       "    </tr>\n",
       "  </thead>\n",
       "  <tbody>\n",
       "    <tr>\n",
       "      <th>0</th>\n",
       "      <td>2498</td>\n",
       "      <td>宏達電</td>\n",
       "      <td>2016/1/4</td>\n",
       "      <td>2016</td>\n",
       "      <td>1</td>\n",
       "      <td>4</td>\n",
       "      <td>79.0</td>\n",
       "      <td>NaN</td>\n",
       "      <td>直接輸入函數</td>\n",
       "      <td>NaN</td>\n",
       "    </tr>\n",
       "    <tr>\n",
       "      <th>1</th>\n",
       "      <td>2498</td>\n",
       "      <td>宏達電</td>\n",
       "      <td>2016/1/5</td>\n",
       "      <td>2016</td>\n",
       "      <td>1</td>\n",
       "      <td>5</td>\n",
       "      <td>77.8</td>\n",
       "      <td>-0.015306</td>\n",
       "      <td>宏達電</td>\n",
       "      <td>NaN</td>\n",
       "    </tr>\n",
       "    <tr>\n",
       "      <th>2</th>\n",
       "      <td>2498</td>\n",
       "      <td>宏達電</td>\n",
       "      <td>2016/1/6</td>\n",
       "      <td>2016</td>\n",
       "      <td>1</td>\n",
       "      <td>6</td>\n",
       "      <td>76.8</td>\n",
       "      <td>-0.012937</td>\n",
       "      <td>平均數</td>\n",
       "      <td>5.918048e-18</td>\n",
       "    </tr>\n",
       "    <tr>\n",
       "      <th>3</th>\n",
       "      <td>2498</td>\n",
       "      <td>宏達電</td>\n",
       "      <td>2016/1/7</td>\n",
       "      <td>2016</td>\n",
       "      <td>1</td>\n",
       "      <td>7</td>\n",
       "      <td>77.0</td>\n",
       "      <td>0.002601</td>\n",
       "      <td>NaN</td>\n",
       "      <td>NaN</td>\n",
       "    </tr>\n",
       "    <tr>\n",
       "      <th>4</th>\n",
       "      <td>2498</td>\n",
       "      <td>宏達電</td>\n",
       "      <td>2016/1/8</td>\n",
       "      <td>2016</td>\n",
       "      <td>1</td>\n",
       "      <td>8</td>\n",
       "      <td>77.8</td>\n",
       "      <td>0.010336</td>\n",
       "      <td>中位數</td>\n",
       "      <td>0.000000e+00</td>\n",
       "    </tr>\n",
       "  </tbody>\n",
       "</table>\n",
       "</div>"
      ],
      "text/plain": [
       "     ID NAME      DATE     Y  M  D  CLOSE    RETURN Unnamed: 8    Unnamed: 9\n",
       "0  2498  宏達電  2016/1/4  2016  1  4   79.0       NaN     直接輸入函數           NaN\n",
       "1  2498  宏達電  2016/1/5  2016  1  5   77.8 -0.015306        宏達電           NaN\n",
       "2  2498  宏達電  2016/1/6  2016  1  6   76.8 -0.012937        平均數  5.918048e-18\n",
       "3  2498  宏達電  2016/1/7  2016  1  7   77.0  0.002601        NaN           NaN\n",
       "4  2498  宏達電  2016/1/8  2016  1  8   77.8  0.010336        中位數  0.000000e+00"
      ]
     },
     "execution_count": 2,
     "metadata": {},
     "output_type": "execute_result"
    }
   ],
   "source": [
    "# 呼叫CSV檔\n",
    "data = pd.read_excel(\"hw2_TEJ_UTF8.xlsx\",sheet_name=\"2498宏達電\")\n",
    "data.head()\n"
   ]
  },
  {
   "cell_type": "code",
   "execution_count": 3,
   "id": "ddb8d953",
   "metadata": {},
   "outputs": [
    {
     "data": {
      "text/html": [
       "<div>\n",
       "<style scoped>\n",
       "    .dataframe tbody tr th:only-of-type {\n",
       "        vertical-align: middle;\n",
       "    }\n",
       "\n",
       "    .dataframe tbody tr th {\n",
       "        vertical-align: top;\n",
       "    }\n",
       "\n",
       "    .dataframe thead th {\n",
       "        text-align: right;\n",
       "    }\n",
       "</style>\n",
       "<table border=\"1\" class=\"dataframe\">\n",
       "  <thead>\n",
       "    <tr style=\"text-align: right;\">\n",
       "      <th></th>\n",
       "      <th>ID</th>\n",
       "      <th>NAME</th>\n",
       "      <th>DATE</th>\n",
       "      <th>Y</th>\n",
       "      <th>M</th>\n",
       "      <th>D</th>\n",
       "      <th>CLOSE</th>\n",
       "      <th>RETURN</th>\n",
       "      <th>Unnamed: 8</th>\n",
       "      <th>Unnamed: 9</th>\n",
       "    </tr>\n",
       "  </thead>\n",
       "  <tbody>\n",
       "    <tr>\n",
       "      <th>0</th>\n",
       "      <td>2498</td>\n",
       "      <td>宏達電</td>\n",
       "      <td>2016/1/4</td>\n",
       "      <td>2016</td>\n",
       "      <td>1</td>\n",
       "      <td>4</td>\n",
       "      <td>79.0</td>\n",
       "      <td>NaN</td>\n",
       "      <td>直接輸入函數</td>\n",
       "      <td>NaN</td>\n",
       "    </tr>\n",
       "    <tr>\n",
       "      <th>1</th>\n",
       "      <td>2498</td>\n",
       "      <td>宏達電</td>\n",
       "      <td>2016/1/5</td>\n",
       "      <td>2016</td>\n",
       "      <td>1</td>\n",
       "      <td>5</td>\n",
       "      <td>77.8</td>\n",
       "      <td>-0.015306</td>\n",
       "      <td>宏達電</td>\n",
       "      <td>NaN</td>\n",
       "    </tr>\n",
       "    <tr>\n",
       "      <th>2</th>\n",
       "      <td>2498</td>\n",
       "      <td>宏達電</td>\n",
       "      <td>2016/1/6</td>\n",
       "      <td>2016</td>\n",
       "      <td>1</td>\n",
       "      <td>6</td>\n",
       "      <td>76.8</td>\n",
       "      <td>-0.012937</td>\n",
       "      <td>平均數</td>\n",
       "      <td>5.918048e-18</td>\n",
       "    </tr>\n",
       "    <tr>\n",
       "      <th>3</th>\n",
       "      <td>2498</td>\n",
       "      <td>宏達電</td>\n",
       "      <td>2016/1/7</td>\n",
       "      <td>2016</td>\n",
       "      <td>1</td>\n",
       "      <td>7</td>\n",
       "      <td>77.0</td>\n",
       "      <td>0.002601</td>\n",
       "      <td>NaN</td>\n",
       "      <td>NaN</td>\n",
       "    </tr>\n",
       "    <tr>\n",
       "      <th>4</th>\n",
       "      <td>2498</td>\n",
       "      <td>宏達電</td>\n",
       "      <td>2016/1/8</td>\n",
       "      <td>2016</td>\n",
       "      <td>1</td>\n",
       "      <td>8</td>\n",
       "      <td>77.8</td>\n",
       "      <td>0.010336</td>\n",
       "      <td>中位數</td>\n",
       "      <td>0.000000e+00</td>\n",
       "    </tr>\n",
       "    <tr>\n",
       "      <th>...</th>\n",
       "      <td>...</td>\n",
       "      <td>...</td>\n",
       "      <td>...</td>\n",
       "      <td>...</td>\n",
       "      <td>...</td>\n",
       "      <td>...</td>\n",
       "      <td>...</td>\n",
       "      <td>...</td>\n",
       "      <td>...</td>\n",
       "      <td>...</td>\n",
       "    </tr>\n",
       "    <tr>\n",
       "      <th>239</th>\n",
       "      <td>2498</td>\n",
       "      <td>宏達電</td>\n",
       "      <td>2016/12/26</td>\n",
       "      <td>2016</td>\n",
       "      <td>12</td>\n",
       "      <td>26</td>\n",
       "      <td>78.0</td>\n",
       "      <td>0.010309</td>\n",
       "      <td>NaN</td>\n",
       "      <td>NaN</td>\n",
       "    </tr>\n",
       "    <tr>\n",
       "      <th>240</th>\n",
       "      <td>2498</td>\n",
       "      <td>宏達電</td>\n",
       "      <td>2016/12/27</td>\n",
       "      <td>2016</td>\n",
       "      <td>12</td>\n",
       "      <td>27</td>\n",
       "      <td>78.1</td>\n",
       "      <td>0.001281</td>\n",
       "      <td>NaN</td>\n",
       "      <td>NaN</td>\n",
       "    </tr>\n",
       "    <tr>\n",
       "      <th>241</th>\n",
       "      <td>2498</td>\n",
       "      <td>宏達電</td>\n",
       "      <td>2016/12/28</td>\n",
       "      <td>2016</td>\n",
       "      <td>12</td>\n",
       "      <td>28</td>\n",
       "      <td>78.3</td>\n",
       "      <td>0.002558</td>\n",
       "      <td>NaN</td>\n",
       "      <td>NaN</td>\n",
       "    </tr>\n",
       "    <tr>\n",
       "      <th>242</th>\n",
       "      <td>2498</td>\n",
       "      <td>宏達電</td>\n",
       "      <td>2016/12/29</td>\n",
       "      <td>2016</td>\n",
       "      <td>12</td>\n",
       "      <td>29</td>\n",
       "      <td>77.8</td>\n",
       "      <td>-0.006406</td>\n",
       "      <td>NaN</td>\n",
       "      <td>NaN</td>\n",
       "    </tr>\n",
       "    <tr>\n",
       "      <th>243</th>\n",
       "      <td>2498</td>\n",
       "      <td>宏達電</td>\n",
       "      <td>2016/12/30</td>\n",
       "      <td>2016</td>\n",
       "      <td>12</td>\n",
       "      <td>30</td>\n",
       "      <td>79.0</td>\n",
       "      <td>0.015306</td>\n",
       "      <td>NaN</td>\n",
       "      <td>NaN</td>\n",
       "    </tr>\n",
       "  </tbody>\n",
       "</table>\n",
       "<p>244 rows × 10 columns</p>\n",
       "</div>"
      ],
      "text/plain": [
       "       ID NAME        DATE     Y   M   D  CLOSE    RETURN Unnamed: 8  \\\n",
       "0    2498  宏達電    2016/1/4  2016   1   4   79.0       NaN     直接輸入函數   \n",
       "1    2498  宏達電    2016/1/5  2016   1   5   77.8 -0.015306        宏達電   \n",
       "2    2498  宏達電    2016/1/6  2016   1   6   76.8 -0.012937        平均數   \n",
       "3    2498  宏達電    2016/1/7  2016   1   7   77.0  0.002601        NaN   \n",
       "4    2498  宏達電    2016/1/8  2016   1   8   77.8  0.010336        中位數   \n",
       "..    ...  ...         ...   ...  ..  ..    ...       ...        ...   \n",
       "239  2498  宏達電  2016/12/26  2016  12  26   78.0  0.010309        NaN   \n",
       "240  2498  宏達電  2016/12/27  2016  12  27   78.1  0.001281        NaN   \n",
       "241  2498  宏達電  2016/12/28  2016  12  28   78.3  0.002558        NaN   \n",
       "242  2498  宏達電  2016/12/29  2016  12  29   77.8 -0.006406        NaN   \n",
       "243  2498  宏達電  2016/12/30  2016  12  30   79.0  0.015306        NaN   \n",
       "\n",
       "       Unnamed: 9  \n",
       "0             NaN  \n",
       "1             NaN  \n",
       "2    5.918048e-18  \n",
       "3             NaN  \n",
       "4    0.000000e+00  \n",
       "..            ...  \n",
       "239           NaN  \n",
       "240           NaN  \n",
       "241           NaN  \n",
       "242           NaN  \n",
       "243           NaN  \n",
       "\n",
       "[244 rows x 10 columns]"
      ]
     },
     "execution_count": 3,
     "metadata": {},
     "output_type": "execute_result"
    }
   ],
   "source": [
    "#計算報酬率 ln(St/St-1) #範例計算TAIEX與TSMC\n",
    "data['RETURN']=np.log(data.CLOSE) - np.log(data.CLOSE.shift(1))\n",
    "# data['TSMC_return']=np.log(data.TSMC_CLOSE) - np.log(data.TSMC_CLOSE.shift(1))\n",
    "data"
   ]
  },
  {
   "cell_type": "markdown",
   "id": "ca8aa408",
   "metadata": {},
   "source": [
    "# Descriptive Statistics"
   ]
  },
  {
   "cell_type": "code",
   "execution_count": 4,
   "id": "79ac670d",
   "metadata": {
    "scrolled": true
   },
   "outputs": [
    {
     "data": {
      "text/html": [
       "<div>\n",
       "<style scoped>\n",
       "    .dataframe tbody tr th:only-of-type {\n",
       "        vertical-align: middle;\n",
       "    }\n",
       "\n",
       "    .dataframe tbody tr th {\n",
       "        vertical-align: top;\n",
       "    }\n",
       "\n",
       "    .dataframe thead th {\n",
       "        text-align: right;\n",
       "    }\n",
       "</style>\n",
       "<table border=\"1\" class=\"dataframe\">\n",
       "  <thead>\n",
       "    <tr style=\"text-align: right;\">\n",
       "      <th></th>\n",
       "      <th>RETURN</th>\n",
       "    </tr>\n",
       "  </thead>\n",
       "  <tbody>\n",
       "    <tr>\n",
       "      <th>mean</th>\n",
       "      <td>0.000000</td>\n",
       "    </tr>\n",
       "    <tr>\n",
       "      <th>median</th>\n",
       "      <td>0.000000</td>\n",
       "    </tr>\n",
       "    <tr>\n",
       "      <th>std</th>\n",
       "      <td>0.036106</td>\n",
       "    </tr>\n",
       "    <tr>\n",
       "      <th>var</th>\n",
       "      <td>0.001304</td>\n",
       "    </tr>\n",
       "    <tr>\n",
       "      <th>kurtosis</th>\n",
       "      <td>1.572220</td>\n",
       "    </tr>\n",
       "    <tr>\n",
       "      <th>skewness</th>\n",
       "      <td>0.115705</td>\n",
       "    </tr>\n",
       "    <tr>\n",
       "      <th>min</th>\n",
       "      <td>-0.105361</td>\n",
       "    </tr>\n",
       "    <tr>\n",
       "      <th>max</th>\n",
       "      <td>0.095310</td>\n",
       "    </tr>\n",
       "    <tr>\n",
       "      <th>sum</th>\n",
       "      <td>0.000000</td>\n",
       "    </tr>\n",
       "    <tr>\n",
       "      <th>count</th>\n",
       "      <td>243.000000</td>\n",
       "    </tr>\n",
       "    <tr>\n",
       "      <th>25%</th>\n",
       "      <td>-0.015098</td>\n",
       "    </tr>\n",
       "    <tr>\n",
       "      <th>75%</th>\n",
       "      <td>0.012717</td>\n",
       "    </tr>\n",
       "  </tbody>\n",
       "</table>\n",
       "</div>"
      ],
      "text/plain": [
       "              RETURN\n",
       "mean        0.000000\n",
       "median      0.000000\n",
       "std         0.036106\n",
       "var         0.001304\n",
       "kurtosis    1.572220\n",
       "skewness    0.115705\n",
       "min        -0.105361\n",
       "max         0.095310\n",
       "sum         0.000000\n",
       "count     243.000000\n",
       "25%        -0.015098\n",
       "75%         0.012717"
      ]
     },
     "execution_count": 4,
     "metadata": {},
     "output_type": "execute_result"
    }
   ],
   "source": [
    "def descriptive_statistics(x) : \n",
    "    return pd.Series([x.mean(),x.median(),x.std(),x.var(),\n",
    "                      x.kurt(),x.skew(),x.min(),x.max(),x.sum(),\n",
    "                      x.count(),x.quantile(.25), x.quantile(.75)],index=['mean','median',\n",
    "                      'std','var','kurtosis','skewness','min','max','sum',\n",
    "                      'count','25%','75%'])                      \n",
    "\n",
    "descriptive_statistics_result = pd.DataFrame(data, columns=['RETURN'])\n",
    "descriptive_statistics_result.apply(descriptive_statistics)"
   ]
  },
  {
   "cell_type": "markdown",
   "id": "31372906",
   "metadata": {},
   "source": [
    "# 常見的圖形繪製\n",
    "# (1)直方圖"
   ]
  },
  {
   "cell_type": "code",
   "execution_count": 5,
   "id": "a1fae05e",
   "metadata": {},
   "outputs": [],
   "source": [
    "#呼叫畫圖的套件，利用matplotlib的pyplot.bar功能\n",
    "import matplotlib.pyplot as plt\n",
    "from matplotlib.font_manager import FontProperties"
   ]
  },
  {
   "cell_type": "code",
   "execution_count": 8,
   "id": "b970ad43",
   "metadata": {},
   "outputs": [
    {
     "name": "stderr",
     "output_type": "stream",
     "text": [
      "e:\\Anaconda\\lib\\site-packages\\numpy\\lib\\histograms.py:839: RuntimeWarning: invalid value encountered in greater_equal\n",
      "  keep = (tmp_a >= first_edge)\n",
      "e:\\Anaconda\\lib\\site-packages\\numpy\\lib\\histograms.py:840: RuntimeWarning: invalid value encountered in less_equal\n",
      "  keep &= (tmp_a <= last_edge)\n"
     ]
    },
    {
     "data": {
      "text/plain": [
       "Text(0.5, 1.0, 'TSMC Return Histogram')"
      ]
     },
     "execution_count": 8,
     "metadata": {},
     "output_type": "execute_result"
    },
    {
     "data": {
      "image/png": "[encoded data removed]",
      "text/plain": [
       "<Figure size 432x288 with 1 Axes>"
      ]
     },
     "metadata": {
      "needs_background": "light"
     },
     "output_type": "display_data"
    }
   ],
   "source": [
    "#第一種直方圖 #單一圖形\n",
    "data.dropna()\n",
    "plt.hist(data.RETURN,bins=12) \n",
    "plt.title(\"TSMC Return Histogram\")\n",
    "#bins代表直方圖分佈區間個數，range用於設定直方圖的小矩形最大值與最小值"
   ]
  },
  {
   "cell_type": "code",
   "execution_count": 7,
   "id": "7596bd50",
   "metadata": {},
   "outputs": [
    {
     "ename": "AttributeError",
     "evalue": "'DataFrame' object has no attribute 'TAIEX_return'",
     "output_type": "error",
     "traceback": [
      "\u001b[1;31m---------------------------------------------------------------------------\u001b[0m",
      "\u001b[1;31mAttributeError\u001b[0m                            Traceback (most recent call last)",
      "\u001b[1;32m<ipython-input-7-a4f55507e649>\u001b[0m in \u001b[0;36m<module>\u001b[1;34m\u001b[0m\n\u001b[0;32m      4\u001b[0m \u001b[1;31m#繪製TAIEX_return直方圖\u001b[0m\u001b[1;33m\u001b[0m\u001b[1;33m\u001b[0m\u001b[1;33m\u001b[0m\u001b[0m\n\u001b[0;32m      5\u001b[0m \u001b[0mp1\u001b[0m\u001b[1;33m=\u001b[0m\u001b[0mfig\u001b[0m\u001b[1;33m.\u001b[0m\u001b[0madd_subplot\u001b[0m\u001b[1;33m(\u001b[0m\u001b[1;36m211\u001b[0m\u001b[1;33m)\u001b[0m\u001b[1;33m\u001b[0m\u001b[1;33m\u001b[0m\u001b[0m\n\u001b[1;32m----> 6\u001b[1;33m \u001b[0mplt\u001b[0m\u001b[1;33m.\u001b[0m\u001b[0mhist\u001b[0m\u001b[1;33m(\u001b[0m\u001b[0mdata\u001b[0m\u001b[1;33m.\u001b[0m\u001b[0mTAIEX_return\u001b[0m\u001b[1;33m,\u001b[0m\u001b[0mbins\u001b[0m\u001b[1;33m=\u001b[0m\u001b[1;36m50\u001b[0m\u001b[1;33m,\u001b[0m\u001b[0mrwidth\u001b[0m\u001b[1;33m=\u001b[0m\u001b[1;36m0.9\u001b[0m\u001b[1;33m)\u001b[0m\u001b[1;33m\u001b[0m\u001b[1;33m\u001b[0m\u001b[0m\n\u001b[0m\u001b[0;32m      7\u001b[0m \u001b[0mplt\u001b[0m\u001b[1;33m.\u001b[0m\u001b[0mxlabel\u001b[0m\u001b[1;33m(\u001b[0m\u001b[1;34m'Return'\u001b[0m\u001b[1;33m)\u001b[0m\u001b[1;33m\u001b[0m\u001b[1;33m\u001b[0m\u001b[0m\n\u001b[0;32m      8\u001b[0m \u001b[0mplt\u001b[0m\u001b[1;33m.\u001b[0m\u001b[0mtitle\u001b[0m\u001b[1;33m(\u001b[0m\u001b[1;34m\"TAIEX Return\"\u001b[0m\u001b[1;33m)\u001b[0m\u001b[1;33m\u001b[0m\u001b[1;33m\u001b[0m\u001b[0m\n",
      "\u001b[1;32me:\\Anaconda\\lib\\site-packages\\pandas\\core\\generic.py\u001b[0m in \u001b[0;36m__getattr__\u001b[1;34m(self, name)\u001b[0m\n\u001b[0;32m   5272\u001b[0m             \u001b[1;32mif\u001b[0m \u001b[0mself\u001b[0m\u001b[1;33m.\u001b[0m\u001b[0m_info_axis\u001b[0m\u001b[1;33m.\u001b[0m\u001b[0m_can_hold_identifiers_and_holds_name\u001b[0m\u001b[1;33m(\u001b[0m\u001b[0mname\u001b[0m\u001b[1;33m)\u001b[0m\u001b[1;33m:\u001b[0m\u001b[1;33m\u001b[0m\u001b[1;33m\u001b[0m\u001b[0m\n\u001b[0;32m   5273\u001b[0m                 \u001b[1;32mreturn\u001b[0m \u001b[0mself\u001b[0m\u001b[1;33m[\u001b[0m\u001b[0mname\u001b[0m\u001b[1;33m]\u001b[0m\u001b[1;33m\u001b[0m\u001b[1;33m\u001b[0m\u001b[0m\n\u001b[1;32m-> 5274\u001b[1;33m             \u001b[1;32mreturn\u001b[0m \u001b[0mobject\u001b[0m\u001b[1;33m.\u001b[0m\u001b[0m__getattribute__\u001b[0m\u001b[1;33m(\u001b[0m\u001b[0mself\u001b[0m\u001b[1;33m,\u001b[0m \u001b[0mname\u001b[0m\u001b[1;33m)\u001b[0m\u001b[1;33m\u001b[0m\u001b[1;33m\u001b[0m\u001b[0m\n\u001b[0m\u001b[0;32m   5275\u001b[0m \u001b[1;33m\u001b[0m\u001b[0m\n\u001b[0;32m   5276\u001b[0m     \u001b[1;32mdef\u001b[0m \u001b[0m__setattr__\u001b[0m\u001b[1;33m(\u001b[0m\u001b[0mself\u001b[0m\u001b[1;33m,\u001b[0m \u001b[0mname\u001b[0m\u001b[1;33m:\u001b[0m \u001b[0mstr\u001b[0m\u001b[1;33m,\u001b[0m \u001b[0mvalue\u001b[0m\u001b[1;33m)\u001b[0m \u001b[1;33m->\u001b[0m \u001b[1;32mNone\u001b[0m\u001b[1;33m:\u001b[0m\u001b[1;33m\u001b[0m\u001b[1;33m\u001b[0m\u001b[0m\n",
      "\u001b[1;31mAttributeError\u001b[0m: 'DataFrame' object has no attribute 'TAIEX_return'"
     ]
    },
    {
     "data": {
      "image/png": "[encoded data removed]",
      "text/plain": [
       "<Figure size 720x720 with 1 Axes>"
      ]
     },
     "metadata": {
      "needs_background": "light"
     },
     "output_type": "display_data"
    }
   ],
   "source": [
    "#第二種直方圖 \n",
    "fig=plt.figure(figsize=(10,10))\n",
    "\n",
    "#繪製TAIEX_return直方圖\n",
    "p1=fig.add_subplot(211)\n",
    "plt.hist(data.TAIEX_return,bins=50,rwidth=0.9)\n",
    "plt.xlabel('Return')\n",
    "plt.title(\"TAIEX Return\")\n",
    "\n",
    "#繪製TSMC_return直方圖\n",
    "p2=fig.add_subplot(212)\n",
    "plt.hist(data.TSMC_return,bins=50,rwidth=0.9)\n",
    "plt.xlabel('Return')\n",
    "plt.title(\"TSMC Return\")"
   ]
  },
  {
   "cell_type": "code",
   "execution_count": null,
   "id": "e0e4034c",
   "metadata": {},
   "outputs": [
    {
     "data": {
      "text/plain": [
       "Text(0.5, 1.0, 'TAIEX and TSMC Return')"
      ]
     },
     "execution_count": 88,
     "metadata": {},
     "output_type": "execute_result"
    },
    {
     "data": {
      "image/png": "[encoded data removed]",
      "text/plain": [
       "<Figure size 432x288 with 1 Axes>"
      ]
     },
     "metadata": {
      "needs_background": "light"
     },
     "output_type": "display_data"
    }
   ],
   "source": [
    "#第三種直方圖 \n",
    "plt.hist(data.TAIEX_return,bins=50, density=True,label='TAIEX return',color='r')\n",
    "plt.hist(data.TSMC_return,bins=50, density=True,label='TSMC return',color='b')\n",
    "\n",
    "plt.legend()\n",
    "plt.xlabel('Return')\n",
    "plt.ylabel('Probability density')\n",
    "plt.title(\"TAIEX and TSMC Return\")"
   ]
  },
  {
   "cell_type": "code",
   "execution_count": null,
   "id": "8a9b11b7",
   "metadata": {},
   "outputs": [],
   "source": []
  }
 ],
 "metadata": {
  "kernelspec": {
   "display_name": "Python 3.7.6 ('base')",
   "language": "python",
   "name": "python3"
  },
  "language_info": {
   "codemirror_mode": {
    "name": "ipython",
    "version": 3
   },
   "file_extension": ".py",
   "mimetype": "text/x-python",
   "name": "python",
   "nbconvert_exporter": "python",
   "pygments_lexer": "ipython3",
   "version": "3.7.6"
  },
  "vscode": {
   "interpreter": {
    "hash": "91bb753b057673435fb8d6f6a083e6c818364728098c7ae050ca3a25357dd754"
   }
  }
 },
 "nbformat": 4,
 "nbformat_minor": 5
}
