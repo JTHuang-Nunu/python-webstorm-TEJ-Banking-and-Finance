{
 "cells": [
  {
   "cell_type": "code",
   "execution_count": 215,
   "id": "f7fb3b17",
   "metadata": {},
   "outputs": [],
   "source": [
    "#呼叫所需套件\n",
    "import pandas as pd\n",
    "import numpy as np\n",
    "import glob\n",
    "import os\n",
    "from scipy import stats"
   ]
  },
  {
   "cell_type": "code",
   "execution_count": 216,
   "id": "6319f3fb",
   "metadata": {},
   "outputs": [
    {
     "name": "stdout",
     "output_type": "stream",
     "text": [
      "d:\\USER\\Documents\\#tmp\\python\\python-webstorm-TEJ-Banking-and-Finance\\data\\total\\\n"
     ]
    }
   ],
   "source": [
    "type = ['Semi-Conductor 202211', 'Finance 202211', 'Shipping  202211']\n",
    "path = os.getcwd() + '\\\\data\\\\total\\\\'\n",
    "print(path)\n",
    "\n",
    "# loop over the list of xlsx files\n",
    "# 0 = Semi-Conductor, 1 = Finance, 2 = Shipping\n",
    "# sample_data = glob.glob(os.path.join(path, \"*.xlsx\"))\n",
    "# print(\"sample_data: \",sample_data)\n",
    "# for f in sample_data:\n",
    "#   df = pd.read_xlsx(f)\n"
   ]
  },
  {
   "cell_type": "code",
   "execution_count": 217,
   "id": "ca516bab",
   "metadata": {},
   "outputs": [],
   "source": [
    "# 呼叫xlsx檔\n",
    "timeType = ['日','周', '月', '季', '年']\n",
    "# data2801 = pd.read_excel(\"path[]hw2_TEJ_excel.xlsx\",sheet_name=\"2357華碩\")\n",
    "# data2498 = pd.read_excel(\"hw2_TEJ_excel.xlsx\",sheet_name=\"2498宏達電\")\n",
    "# data9999 = pd.read_excel(\"hw2_TEJ_excel.xlsx\",sheet_name=\"Y9999加權指數\")\n",
    "# file_list = [\"2603.xlsx\", \"2607.xlsx\", \"2608.xlsx\", \"2642.xlsx\", \"5607.xlsx\"]\n",
    "file_list = [\"2603\"+timeType[2]+ \".xlsx\", \"2607\"+timeType[2]+\".xlsx\", \"2608\"+timeType[2]+\".xlsx\", \"2642\"+timeType[2]+\".xlsx\", \"5607\"+timeType[2]+\".xlsx\"]\n",
    "list = [\"2603\", \"2607\", \"2608\", \"2642\", \"5607\"]\n",
    "data = [pd.read_excel(os.path.join(path, xlsx_filename)) for xlsx_filename in file_list]"
   ]
  },
  {
   "cell_type": "code",
   "execution_count": 218,
   "id": "ddb8d953",
   "metadata": {},
   "outputs": [
    {
     "name": "stdout",
     "output_type": "stream",
     "text": [
      "[          年月  開盤價(元)  最高價(元)  最低價(元)  收盤價(元)  成交量(百萬股)_月  成交值(百萬元)_月   報酬率％_月  \\\n",
      "0    2022/12   165.5   172.0   148.5   162.5         578       93147  -0.3068   \n",
      "1    2022/11   138.0   165.0   131.5   163.0         751      112656  18.5454   \n",
      "2    2022/10   146.0   158.5   132.0   137.5         940      136341  -5.8219   \n",
      "3    2022/09    87.2   186.0    78.5   146.0         921      121937 -27.9916   \n",
      "4    2022/08    95.9   106.5    85.5    88.3        1698      165174  -7.5392   \n",
      "..       ...     ...     ...     ...     ...         ...         ...      ...   \n",
      "226  2004/02    34.6    37.2    33.2    36.4         247        8678   5.2024   \n",
      "227  2004/01    29.2    35.0    29.2    34.6         246        7951  16.8919   \n",
      "228  2003/12    27.4    30.6    26.5    29.6         239        6904   7.2464   \n",
      "229  2003/11    30.0    32.3    27.4    27.6         177        5233  -7.3827   \n",
      "230  2003/10    26.5    30.9    25.9    29.8         381       11076  11.1939   \n",
      "\n",
      "      週轉率％_月  流通在外股數(千股)  ...  股價淨值比-TSE  股價淨值比-TEJ  股價營收比-TEJ  股利殖利率-TSE  \\\n",
      "0    27.2973     2116420  ...        NaN       0.64       0.51        NaN   \n",
      "1    35.5058     2116420  ...       0.64       0.76       0.53      11.04   \n",
      "2    44.4365     2116420  ...       1.61       0.64       0.45      13.09   \n",
      "3    43.5039     2116420  ...       1.71       0.71       0.54      12.33   \n",
      "4    32.0971     5291050  ...       1.04       1.07       0.82      20.39   \n",
      "..       ...         ...  ...        ...        ...        ...        ...   \n",
      "226  11.5038     2146877  ...        NaN       2.03       2.21        NaN   \n",
      "227  11.4378     2146877  ...        NaN       1.93       2.10        NaN   \n",
      "228  11.1378     2146877  ...        NaN       1.65       1.80        NaN   \n",
      "229   8.2237     2146877  ...        NaN       1.58       1.91        NaN   \n",
      "230  17.7251     2146877  ...        NaN       1.70       2.06        NaN   \n",
      "\n",
      "     現金股利率  股價漲跌(元)     高低價差%  市場別       該月結束日    RETURN  \n",
      "0    27.69     -0.5   14.4172  TSE  2022/12/27       NaN  \n",
      "1    27.61     25.5   24.3636  TSE  2022/11/30  0.003072  \n",
      "2    32.73     -8.5   18.1507  TSE  2022/10/31 -0.170126  \n",
      "3    30.82     57.7  121.7441  TSE  2022/09/30  0.059983  \n",
      "4    20.39     -7.2   21.9895  TSE  2022/08/31 -0.502867  \n",
      "..     ...      ...       ...  ...         ...       ...  \n",
      "226   0.54      1.8   11.5607  TSE  2004/02/27  0.089011  \n",
      "227   0.57      5.0   19.5946  TSE  2004/01/30 -0.050715  \n",
      "228   0.66      2.0   14.8551  TSE  2003/12/31 -0.156079  \n",
      "229   0.71     -2.2   16.4430  TSE  2003/11/28 -0.069959  \n",
      "230   0.66      3.0   18.6567  TSE  2003/10/31  0.076693  \n",
      "\n",
      "[231 rows x 29 columns],           年月  開盤價(元)  最高價(元)  最低價(元)  收盤價(元)  成交量(百萬股)_月  成交值(百萬元)_月   報酬率％_月  \\\n",
      "0    2022/12   28.90   29.65   27.30   28.70          79        2250   0.7019   \n",
      "1    2022/11   25.90   28.80   25.90   28.50          87        2416   9.6154   \n",
      "2    2022/10   31.20   33.35   25.45   26.00         125        3648 -17.5910   \n",
      "3    2022/09   29.60   35.15   27.10   31.55         260        8493   5.6949   \n",
      "4    2022/08   29.70   31.80   28.95   29.85         130        3963   2.0513   \n",
      "..       ...     ...     ...     ...     ...         ...         ...      ...   \n",
      "226  2004/02   15.60   18.00   14.60   16.40         583        9623   6.4934   \n",
      "227  2004/01   12.95   16.00   12.90   15.40         423        6221  19.8444   \n",
      "228  2003/12   12.25   13.55   12.15   12.85         110        1411   4.8979   \n",
      "229  2003/11   13.95   14.60   12.15   12.25         135        1820 -12.1864   \n",
      "230  2003/10   10.85   15.40   10.50   13.95         531        7267  29.7671   \n",
      "\n",
      "      週轉率％_月  流通在外股數(千股)  ...  股價淨值比-TSE  股價淨值比-TEJ  股價營收比-TEJ  股利殖利率-TSE  \\\n",
      "0     7.3841     1067141  ...        NaN       1.04       1.74        NaN   \n",
      "1     8.1984     1067141  ...       1.04       1.06       2.12       1.40   \n",
      "2    11.6682     1067141  ...       0.97       0.97       1.93       1.54   \n",
      "3    24.3980     1067141  ...       1.18       1.17       2.95       1.27   \n",
      "4    12.2025     1067141  ...       1.12       1.11       2.79       1.34   \n",
      "..       ...         ...  ...        ...        ...        ...        ...   \n",
      "226  54.6444     1067141  ...        NaN       0.97       0.90        NaN   \n",
      "227  39.6250     1067141  ...        NaN       0.91       0.84        NaN   \n",
      "228  10.2886     1067141  ...        NaN       0.76       0.70        NaN   \n",
      "229  12.6508     1067141  ...        NaN       0.72       0.69        NaN   \n",
      "230  49.7185     1067141  ...        NaN       0.82       0.78        NaN   \n",
      "\n",
      "     現金股利率  股價漲跌(元)    高低價差%  市場別       該月結束日    RETURN  \n",
      "0     1.39     0.20   8.2456  TSE  2022/12/27       NaN  \n",
      "1     1.40     2.50  11.1538  TSE  2022/11/30 -0.006993  \n",
      "2     1.54    -5.55  25.0396  TSE  2022/10/31 -0.091808  \n",
      "3     1.27     1.70  26.9682  TSE  2022/09/30  0.193477  \n",
      "4     1.34     0.60   9.7436  TSE  2022/08/31 -0.055389  \n",
      "..     ...      ...      ...  ...         ...       ...  \n",
      "226   2.44     1.00  22.0779  TSE  2004/02/27  0.062914  \n",
      "227   2.60     2.55  24.1245  TSE  2004/01/30 -0.062914  \n",
      "228   3.11     0.60  11.4286  TSE  2003/12/31 -0.181024  \n",
      "229   3.27    -1.70  17.5627  TSE  2003/11/28 -0.047818  \n",
      "230   2.87     3.20  45.5814  TSE  2003/10/31  0.129954  \n",
      "\n",
      "[231 rows x 29 columns],           年月  開盤價(元)  最高價(元)  最低價(元)  收盤價(元)  成交量(百萬股)_月  成交值(百萬元)_月   報酬率％_月  \\\n",
      "0    2022/12   37.50   40.25   36.90   38.10           7         283   2.0079   \n",
      "1    2022/11   34.90   37.55   34.90   37.35           5         184   7.0201   \n",
      "2    2022/10   36.90   37.90   33.60   34.90           6         223  -7.5496   \n",
      "3    2022/09   40.80   41.15   36.20   37.75           9         344  -7.9270   \n",
      "4    2022/08   40.70   43.30   40.25   41.00          12         523   1.1097   \n",
      "..       ...     ...     ...     ...     ...         ...         ...      ...   \n",
      "226  2004/02   11.30   15.40   10.65   13.75         826       11063  24.4342   \n",
      "227  2004/01    8.35   11.05    8.35   11.05         326        3244  33.1325   \n",
      "228  2003/12    7.70    8.80    7.60    8.30         100         824   6.4101   \n",
      "229  2003/11    9.20    9.55    7.60    7.80         127        1119 -13.3334   \n",
      "230  2003/10    7.40    9.80    7.05    9.00         392        3464  22.4487   \n",
      "\n",
      "       週轉率％_月  流通在外股數(千股)  ...  股價淨值比-TSE  股價淨值比-TEJ  股價營收比-TEJ  股利殖利率-TSE  \\\n",
      "0      1.5824      467000  ...        NaN       1.60       1.37        NaN   \n",
      "1      1.0788      467000  ...       1.57       1.61       1.33       4.42   \n",
      "2      1.3443      467000  ...       1.51       1.51       1.24       4.73   \n",
      "3      1.8844      467000  ...       1.63       1.57       1.34       4.37   \n",
      "4      2.6752      467000  ...       1.77       1.70       1.46       4.02   \n",
      "..        ...         ...  ...        ...        ...        ...        ...   \n",
      "226  165.9166      497703  ...        NaN       1.17       1.56        NaN   \n",
      "227   65.5369      497703  ...        NaN       0.94       1.25        NaN   \n",
      "228   20.0666      497703  ...        NaN       0.70       0.94        NaN   \n",
      "229   25.4907      497703  ...        NaN       0.67       0.90        NaN   \n",
      "230   74.9420      522703  ...        NaN       0.81       1.10        NaN   \n",
      "\n",
      "     現金股利率  股價漲跌(元)    高低價差%  市場別       該月結束日    RETURN  \n",
      "0     4.33     0.75   8.9692  TSE  2022/12/27       NaN  \n",
      "1     4.42     2.45   7.5931  TSE  2022/11/30 -0.019881  \n",
      "2     4.73    -2.85  11.3907  TSE  2022/10/31 -0.067846  \n",
      "3     4.37    -3.25  12.0732  TSE  2022/09/30  0.078499  \n",
      "4     4.02     0.45   7.5216  TSE  2022/08/31  0.082587  \n",
      "..     ...      ...      ...  ...         ...       ...  \n",
      "226   0.00     2.70  42.9864  TSE  2004/02/27  0.170034  \n",
      "227   0.00     2.75  32.5301  TSE  2004/01/30 -0.218608  \n",
      "228   0.00     0.50  15.3846  TSE  2003/12/31 -0.286175  \n",
      "229   0.00    -1.20  21.6667  TSE  2003/11/28 -0.062132  \n",
      "230   0.00     1.65  37.4150  TSE  2003/10/31  0.143101  \n",
      "\n",
      "[231 rows x 29 columns],           年月  開盤價(元)  最高價(元)  最低價(元)  收盤價(元)  成交量(百萬股)_月  成交值(百萬元)_月   報酬率％_月  \\\n",
      "0    2022/12   46.80   54.40   45.65   51.00          15         790  11.2322   \n",
      "1    2022/11   42.95   46.60   42.60   45.85           5         244   8.1368   \n",
      "2    2022/10   44.25   47.00   39.00   42.40           3         145  -5.5678   \n",
      "3    2022/09   57.30   57.30   42.45   44.90           4         215 -21.6404   \n",
      "4    2022/08   52.00   58.90   49.20   57.30           7         366  10.6177   \n",
      "..       ...     ...     ...     ...     ...         ...         ...      ...   \n",
      "116  2013/04   32.80   34.20   31.80   33.60           0          17   2.4391   \n",
      "117  2013/03   29.20   34.94   29.00   32.80           0          19  12.3287   \n",
      "118  2013/02   30.00   30.00   29.00   29.20           0           9  -2.6668   \n",
      "119  2013/01   29.70   31.05   29.00   30.00           0          23   1.0101   \n",
      "120  2012/12     NaN   34.74   28.50   29.70           8         239   6.0714   \n",
      "\n",
      "      週轉率％_月  流通在外股數(千股)  ...  股價淨值比-TSE  股價淨值比-TEJ  股價營收比-TEJ  股利殖利率-TSE  \\\n",
      "0    16.1009       95467  ...        NaN       2.34       1.08        NaN   \n",
      "1     5.7213       95467  ...       2.11       2.05       0.97       4.58   \n",
      "2     3.5939       95467  ...       1.90       1.90       0.89       4.95   \n",
      "3     4.5325       95467  ...       2.01       1.80       0.95       4.68   \n",
      "4     7.0736       95467  ...       2.57       2.30       1.21       3.66   \n",
      "..       ...         ...  ...        ...        ...        ...        ...   \n",
      "116   0.6198       86000  ...        NaN       3.02       1.16        NaN   \n",
      "117   0.7140       86000  ...        NaN       2.95       1.13        NaN   \n",
      "118   0.3919       86000  ...        NaN       2.62       1.01        NaN   \n",
      "119   0.9140       86000  ...        NaN       2.69       1.04        NaN   \n",
      "120   9.6372       86000  ...        NaN       2.67       1.03        NaN   \n",
      "\n",
      "     現金股利率  股價漲跌(元)    高低價差%  市場別       該月結束日    RETURN  \n",
      "0     4.12     5.15  19.0840  TSE  2022/12/27       NaN  \n",
      "1     4.58     3.45   9.4340  TSE  2022/11/30 -0.106450  \n",
      "2     4.95    -2.50  17.8174  TSE  2022/10/31 -0.078227  \n",
      "3     4.68   -12.40  25.9162  TSE  2022/09/30  0.057289  \n",
      "4     3.66     5.50  18.7259  TSE  2022/08/31  0.243863  \n",
      "..     ...      ...      ...  ...         ...       ...  \n",
      "116   1.79     0.80   7.5472  REG  2013/04/30 -0.036527  \n",
      "117   1.83     3.60  20.4828  REG  2013/03/29 -0.024098  \n",
      "118    NaN    -0.80   3.4483  REG  2013/02/27 -0.116260  \n",
      "119    NaN     0.30   7.0690  REG  2013/01/31  0.027029  \n",
      "120    NaN      NaN  21.8947  REG  2012/12/28 -0.010050  \n",
      "\n",
      "[121 rows x 29 columns],           年月  開盤價(元)  最高價(元)  最低價(元)  收盤價(元)  成交量(百萬股)_月  成交值(百萬元)_月   報酬率％_月  \\\n",
      "0    2022/12    55.3    55.4   49.85    50.9          12         638  -7.4546   \n",
      "1    2022/11    51.9    57.5   51.00    55.0          19        1031   5.7692   \n",
      "2    2022/10    54.4    60.4   51.50    52.0          23        1272  -4.2358   \n",
      "3    2022/09    53.0    60.4   50.80    54.3          20        1082   3.4285   \n",
      "4    2022/08    47.6    55.5   46.20    52.5          11         589  14.0775   \n",
      "..       ...     ...     ...     ...     ...         ...         ...      ...   \n",
      "226  2004/02    20.5    28.6   19.80    26.7          20         486  29.6116   \n",
      "227  2004/01    16.2    20.7   16.20    20.6           8         152  30.3798   \n",
      "228  2003/12    16.0    16.3   15.40    15.8           0           2  -1.2500   \n",
      "229  2003/11    15.8    16.6   15.20    16.0           0           1   0.0000   \n",
      "230  2003/10    16.5    16.5   15.50    16.0           0           2  -4.7621   \n",
      "\n",
      "      週轉率％_月  流通在外股數(千股)  ...  股價淨值比-TSE  股價淨值比-TEJ  股價營收比-TEJ  股利殖利率-TSE  \\\n",
      "0     4.4638      273979  ...        NaN       1.97       4.32        NaN   \n",
      "1     6.8852      273979  ...       1.98       2.20       4.94       2.91   \n",
      "2     8.2437      273979  ...       1.93       2.08       4.67       3.08   \n",
      "3     7.6500      254979  ...       2.02       1.97       4.95       2.95   \n",
      "4     4.4568      254979  ...       1.95       1.90       4.79       3.05   \n",
      "..       ...         ...  ...        ...        ...        ...        ...   \n",
      "226  21.3064       95220  ...       1.95       1.95       4.16       3.75   \n",
      "227   8.2399       95220  ...       1.51       1.51       3.21       4.85   \n",
      "228   0.1197       95220  ...       1.16       1.16       2.46       6.33   \n",
      "229   0.0977       95220  ...       1.17       1.20       2.45       6.25   \n",
      "230   0.1617       95220  ...       1.20       1.20       2.45       6.25   \n",
      "\n",
      "     現金股利率  股價漲跌(元)    高低價差%  市場別       該月結束日    RETURN  \n",
      "0     2.93     -4.1  10.0909  TSE  2022/12/27       NaN  \n",
      "1     2.71      3.0  12.5000  TSE  2022/11/30  0.077470  \n",
      "2     2.86     -2.3  16.3904  TSE  2022/10/31 -0.056089  \n",
      "3     2.95      1.8  18.2857  TSE  2022/09/30  0.043281  \n",
      "4     3.05      5.0  19.5789  TSE  2022/08/31 -0.033711  \n",
      "..     ...      ...      ...  ...         ...       ...  \n",
      "226   3.75      6.1  42.7184  OTC  2004/02/27  0.007519  \n",
      "227   4.85      4.8  28.4810  OTC  2004/01/30 -0.259372  \n",
      "228   6.33     -0.2   5.6250  OTC  2003/12/29 -0.265281  \n",
      "229   6.25      0.0   8.7500  OTC  2003/11/28  0.012579  \n",
      "230   6.25     -0.8   5.9524  OTC  2003/10/31  0.000000  \n",
      "\n",
      "[231 rows x 29 columns]]\n"
     ]
    }
   ],
   "source": [
    "# # Create three stock RETURN\n",
    "# data2357['RETURN']=np.log(data2357.CLOSE) - np.log(data2357.CLOSE.shift(1))\n",
    "# data2498['RETURN']=np.log(data2498.CLOSE) - np.log(data2498.CLOSE.shift(1))\n",
    "# data9999['RETURN']=np.log(data9999.CLOSE) - np.log(data9999.CLOSE.shift(1))\n",
    "column_name = \"收盤價(元)\"\n",
    "# print(data[2])\n",
    "# data[4]['RETURN']=np.log(data[4].loc[:, column_name]) - np.log(data[4].loc[:, column_name].shift(1))\n",
    "for i in data:\n",
    "  i['RETURN']=np.log(i.loc[:, column_name]) - np.log(i.loc[:, column_name].shift(1))\n",
    "  \n",
    "print(data)\n",
    "# print(data[0]['RETURN'])"
   ]
  },
  {
   "cell_type": "markdown",
   "id": "ca8aa408",
   "metadata": {},
   "source": [
    "# Descriptive Statistics"
   ]
  },
  {
   "cell_type": "code",
   "execution_count": 219,
   "id": "6995878c",
   "metadata": {},
   "outputs": [
    {
     "name": "stdout",
     "output_type": "stream",
     "text": [
      "0     154.333333\n",
      "1     109.933333\n",
      "2     123.366667\n",
      "3     130.500000\n",
      "4     122.166667\n",
      "         ...    \n",
      "72     30.433333\n",
      "73     29.733333\n",
      "74     26.733333\n",
      "75     34.766667\n",
      "76     29.000000\n",
      "Name: 收盤價(元), Length: 77, dtype: float64\n"
     ]
    }
   ],
   "source": [
    "\n",
    "# print(data[0].loc[:, \"收盤價(元)\"])\n",
    "# print(data[0].loc[:, \"收盤價(元)\"].rolling(3).mean())\n",
    "print(data[0].loc[:, \"收盤價(元)\"].groupby(data[0].index // 3).mean())"
   ]
  },
  {
   "cell_type": "code",
   "execution_count": 220,
   "id": "d10e6693",
   "metadata": {},
   "outputs": [],
   "source": [
    "def descriptive_statistics(x) : \n",
    "    return pd.Series([x.mean(),x.median(),x.std(),x.var(),\n",
    "                      x.kurt(),x.skew(),x.min(),x.max(),x.sum(),\n",
    "                      x.count(),x.quantile(.25), x.quantile(.75)],index=['mean','median',\n",
    "                      'std','var','kurtosis','skewness','min','max','sum',\n",
    "                      'count','25%','75%'])\n",
    "result = []\n",
    "result_description =  []\n",
    "\n",
    "for idx in range(len(data)):\n",
    "  # for semiannual and half year\n",
    "  result.append(pd.DataFrame(data[idx].loc[:, 'RETURN'].groupby(data[idx].index // 6).mean(),columns=['RETURN']))\n",
    "  \n",
    "  # for normal data\n",
    "  # result.append(pd.DataFrame(data[idx], columns=['RETURN']))\n",
    "  \n",
    "  result_description.append(result[idx].apply(descriptive_statistics))\n",
    "\n",
    "result = pd.concat(result, axis = 1)\n",
    "result_description = pd.concat(result_description, axis = 1)\n",
    "\n",
    "result.columns =  list\n",
    "result_description.columns =  list\n",
    "result.to_excel(\"semiannual_return.xlsx\")\n",
    "result_description.to_excel(\"semiannual_description.xlsx\")"
   ]
  },
  {
   "cell_type": "markdown",
   "id": "31372906",
   "metadata": {},
   "source": [
    "# 常見的圖形繪製\n",
    "# (1)直方圖"
   ]
  },
  {
   "cell_type": "code",
   "execution_count": 221,
   "id": "a1fae05e",
   "metadata": {},
   "outputs": [],
   "source": [
    "#呼叫畫圖的套件，利用matplotlib的pyplot.bar功能\n",
    "import matplotlib.pyplot as plt\n",
    "from matplotlib.font_manager import FontProperties"
   ]
  },
  {
   "cell_type": "code",
   "execution_count": 224,
   "id": "b970ad43",
   "metadata": {},
   "outputs": [
    {
     "data": {
      "image/png": "[encoded data removed]",
      "text/plain": [
       "<Figure size 432x288 with 1 Axes>"
      ]
     },
     "metadata": {
      "needs_background": "light"
     },
     "output_type": "display_data"
    },
    {
     "data": {
      "image/png": "[encoded data removed]",
      "text/plain": [
       "<Figure size 432x288 with 1 Axes>"
      ]
     },
     "metadata": {
      "needs_background": "light"
     },
     "output_type": "display_data"
    },
    {
     "data": {
      "image/png": "[encoded data removed]",
      "text/plain": [
       "<Figure size 432x288 with 1 Axes>"
      ]
     },
     "metadata": {
      "needs_background": "light"
     },
     "output_type": "display_data"
    },
    {
     "data": {
      "image/png": "[encoded data removed]",
      "text/plain": [
       "<Figure size 432x288 with 1 Axes>"
      ]
     },
     "metadata": {
      "needs_background": "light"
     },
     "output_type": "display_data"
    },
    {
     "data": {
      "image/png": "[encoded data removed]",
      "text/plain": [
       "<Figure size 432x288 with 1 Axes>"
      ]
     },
     "metadata": {
      "needs_background": "light"
     },
     "output_type": "display_data"
    },
    {
     "data": {
      "text/plain": [
       "<Figure size 432x288 with 0 Axes>"
      ]
     },
     "metadata": {},
     "output_type": "display_data"
    }
   ],
   "source": [
    "#第一種直方圖 #單一圖形\n",
    "unit = \"semiannual\"\n",
    "for idx in  range(len(data)):\n",
    "  plt.hist(data[idx].RETURN, bins= 50)\n",
    "  # plt.xlim(-0.01,0.01)\n",
    "  plt.ylim(0,40)\n",
    "  plt.title(list[idx] + unit)\n",
    "  plt.savefig(\"./\" + list[idx]+ unit +\".png\")\n",
    "  plt.show()\n",
    "  plt.clf()\n",
    "  # plt.gca().xaxis.set_major_locator(0.01)\n",
    "#bins代表直方圖分佈區間個數，range用於設定直方圖的小矩形最大值與最小值"
   ]
  },
  {
   "cell_type": "code",
   "execution_count": 223,
   "id": "e0e4034c",
   "metadata": {},
   "outputs": [
    {
     "data": {
      "image/png": "[encoded data removed]",
      "text/plain": [
       "<Figure size 432x288 with 1 Axes>"
      ]
     },
     "metadata": {
      "needs_background": "light"
     },
     "output_type": "display_data"
    }
   ],
   "source": [
    "#第三種直方圖 \n",
    "# plt.hist(result['2357'],bins=50, density=True,label='2357ASUS return',color='r')\n",
    "# plt.hist(result['2498'],bins=50, density=True,label='2498HTC return',color='g')\n",
    "# plt.hist(result['9999'],bins=50, density=True,label='9999 return',color='b')\n",
    "colorType = ['red','darkorange', 'g', 'dodgerblue','crimson']\n",
    "# print(data[0].RETURN)\n",
    "for idx in range(len(data)):\n",
    "  plt.hist(data[idx].RETURN, bins=50, density=True, label=list[idx],color = colorType[idx])\n",
    "  # plt.xlim(-0.3,0.3)\n",
    "\n",
    "plt.legend()\n",
    "plt.xlabel('Return')\n",
    "plt.ylabel('Probability density')\n",
    "plt.title(\"Return\")\n",
    "plt.savefig(\"./\" + unit +\".png\")"
   ]
  },
  {
   "cell_type": "code",
   "execution_count": null,
   "id": "8a9b11b7",
   "metadata": {},
   "outputs": [],
   "source": []
  }
 ],
 "metadata": {
  "kernelspec": {
   "display_name": "Python 3",
   "language": "python",
   "name": "python3"
  },
  "language_info": {
   "codemirror_mode": {
    "name": "ipython",
    "version": 3
   },
   "file_extension": ".py",
   "mimetype": "text/x-python",
   "name": "python",
   "nbconvert_exporter": "python",
   "pygments_lexer": "ipython3",
   "version": "3.10.3"
  },
  "vscode": {
   "interpreter": {
    "hash": "369f2c481f4da34e4445cda3fffd2e751bd1c4d706f27375911949ba6bb62e1c"
   }
  }
 },
 "nbformat": 4,
 "nbformat_minor": 5
}
