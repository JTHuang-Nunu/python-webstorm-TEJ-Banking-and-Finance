{
 "cells": [
  {
   "cell_type": "code",
   "execution_count": 249,
   "id": "f7fb3b17",
   "metadata": {},
   "outputs": [],
   "source": [
    "#呼叫所需套件\n",
    "import pandas as pd\n",
    "import numpy as np\n",
    "import glob\n",
    "import os\n",
    "from scipy import stats"
   ]
  },
  {
   "cell_type": "code",
   "execution_count": 250,
   "id": "6319f3fb",
   "metadata": {},
   "outputs": [
    {
     "name": "stdout",
     "output_type": "stream",
     "text": [
      "d:\\USER\\Documents\\#tmp\\python\\python-webstorm-TEJ-Banking-and-Finance\\data\\total\\\n"
     ]
    }
   ],
   "source": [
    "type = ['Semi-Conductor 202211', 'Finance 202211', 'Shipping  202211']\n",
    "path = os.getcwd() + '\\\\data\\\\total\\\\'\n",
    "print(path)\n",
    "\n",
    "# loop over the list of xlsx files\n",
    "# 0 = Semi-Conductor, 1 = Finance, 2 = Shipping\n",
    "# sample_data = glob.glob(os.path.join(path, \"*.xlsx\"))\n",
    "# print(\"sample_data: \",sample_data)\n",
    "# for f in sample_data:\n",
    "#   df = pd.read_xlsx(f)\n"
   ]
  },
  {
   "cell_type": "code",
   "execution_count": 251,
   "id": "ca516bab",
   "metadata": {},
   "outputs": [],
   "source": [
    "# 呼叫xlsx檔\n",
    "timeType = ['分','日','周', '月', '季', '年']\n",
    "# data2801 = pd.read_excel(\"path[]hw2_TEJ_excel.xlsx\",sheet_name=\"2357華碩\")\n",
    "# data2498 = pd.read_excel(\"hw2_TEJ_excel.xlsx\",sheet_name=\"2498宏達電\")\n",
    "# data9999 = pd.read_excel(\"hw2_TEJ_excel.xlsx\",sheet_name=\"Y9999加權指數\")\n",
    "# file_list = [\"2603.csv\", \"2607.csv\", \"2608.csv\", \"2642.csv\", \"5607.csv\"]\n",
    "file_list = [\"2603\"+timeType[0]+ \".xlsx\", \"2607\"+timeType[0]+\".xlsx\", \"2608\"+timeType[0]+\".xlsx\", \"2642\"+timeType[0]+\".xlsx\", \"5607\"+timeType[0]+\".xlsx\"]\n",
    "list = [\"2603\", \"2607\", \"2608\", \"2642\", \"5607\"]\n",
    "data = [pd.read_excel(os.path.join(path, xlsx_filename)) for xlsx_filename in file_list]"
   ]
  },
  {
   "cell_type": "code",
   "execution_count": 252,
   "id": "ddb8d953",
   "metadata": {},
   "outputs": [],
   "source": [
    "#get Return from 收盤價\n",
    "column_name = \"收盤價(元)\"\n",
    "for i in data:\n",
    "  i['RETURN']=np.log(i.loc[:, column_name]) - np.log(i.loc[:, column_name].shift(1))"
   ]
  },
  {
   "cell_type": "code",
   "execution_count": 253,
   "id": "d10e6693",
   "metadata": {},
   "outputs": [],
   "source": [
    "def descriptive_statistics(x) : \n",
    "    return pd.Series([x.mean(),x.median(),x.std(),x.var(),\n",
    "                      x.kurt(),x.skew(),x.min(),x.max(),x.sum(),\n",
    "                      x.count(),x.quantile(.25), x.quantile(.75)],index=['mean','median',\n",
    "                      'std','var','kurtosis','skewness','min','max','sum',\n",
    "                      'count','25%','75%'])\n",
    "result = []\n",
    "result_description =  []\n",
    "\n",
    "for idx in range(len(data)):\n",
    "  # for semiannual and half year\n",
    "  result.append(pd.DataFrame(data[idx].loc[:, 'RETURN'].groupby(data[idx].index // 6).mean(),columns=['RETURN']))\n",
    "  \n",
    "  # for normal data\n",
    "  # result.append(pd.DataFrame(data[idx], columns=['RETURN']))\n",
    "  \n",
    "  result_description.append(result[idx].apply(descriptive_statistics))\n",
    "\n",
    "result = pd.concat(result, axis = 1)\n",
    "result_description = pd.concat(result_description, axis = 1)\n",
    "\n",
    "result.columns =  list\n",
    "result_description.columns =  list\n",
    "result.to_excel(\"minute_return.xlsx\")\n",
    "result_description.to_excel(\"minute_description.xlsx\")"
   ]
  },
  {
   "cell_type": "markdown",
   "id": "ca8aa408",
   "metadata": {},
   "source": [
    "# Descriptive Statistics"
   ]
  },
  {
   "cell_type": "code",
   "execution_count": 48,
   "id": "79ac670d",
   "metadata": {
    "scrolled": true
   },
   "outputs": [
    {
     "ename": "IndexError",
     "evalue": "list assignment index out of range",
     "output_type": "error",
     "traceback": [
      "\u001b[1;31m---------------------------------------------------------------------------\u001b[0m",
      "\u001b[1;31mIndexError\u001b[0m                                Traceback (most recent call last)",
      "\u001b[1;32m<ipython-input-48-d681d749893e>\u001b[0m in \u001b[0;36m<module>\u001b[1;34m\u001b[0m\n\u001b[0;32m     11\u001b[0m \u001b[0mresult_description\u001b[0m \u001b[1;33m=\u001b[0m \u001b[1;33m[\u001b[0m\u001b[1;33m]\u001b[0m\u001b[1;33m\u001b[0m\u001b[1;33m\u001b[0m\u001b[0m\n\u001b[0;32m     12\u001b[0m \u001b[1;32mfor\u001b[0m \u001b[0midx\u001b[0m \u001b[1;32min\u001b[0m \u001b[0mrange\u001b[0m\u001b[1;33m(\u001b[0m\u001b[0mlen\u001b[0m\u001b[1;33m(\u001b[0m\u001b[0mdata\u001b[0m\u001b[1;33m)\u001b[0m\u001b[1;33m)\u001b[0m\u001b[1;33m:\u001b[0m\u001b[1;33m\u001b[0m\u001b[1;33m\u001b[0m\u001b[0m\n\u001b[1;32m---> 13\u001b[1;33m     \u001b[0mresult\u001b[0m\u001b[1;33m[\u001b[0m\u001b[0midx\u001b[0m\u001b[1;33m]\u001b[0m \u001b[1;33m=\u001b[0m \u001b[0mpd\u001b[0m\u001b[1;33m.\u001b[0m\u001b[0mDataFrame\u001b[0m\u001b[1;33m(\u001b[0m\u001b[0mdata\u001b[0m\u001b[1;33m[\u001b[0m\u001b[0midx\u001b[0m\u001b[1;33m]\u001b[0m\u001b[1;33m,\u001b[0m \u001b[0mcolumns\u001b[0m\u001b[1;33m=\u001b[0m\u001b[1;33m[\u001b[0m\u001b[1;34m'RETURN'\u001b[0m\u001b[1;33m]\u001b[0m\u001b[1;33m)\u001b[0m\u001b[1;33m\u001b[0m\u001b[1;33m\u001b[0m\u001b[0m\n\u001b[0m\u001b[0;32m     14\u001b[0m     \u001b[0mresult_description\u001b[0m\u001b[1;33m[\u001b[0m\u001b[0midx\u001b[0m\u001b[1;33m]\u001b[0m \u001b[1;33m=\u001b[0m \u001b[0mresult\u001b[0m\u001b[1;33m[\u001b[0m\u001b[0midx\u001b[0m\u001b[1;33m]\u001b[0m\u001b[1;33m.\u001b[0m\u001b[0mapply\u001b[0m\u001b[1;33m(\u001b[0m\u001b[0mdescriptive_statistics\u001b[0m\u001b[1;33m)\u001b[0m\u001b[1;33m\u001b[0m\u001b[1;33m\u001b[0m\u001b[0m\n\u001b[0;32m     15\u001b[0m \u001b[1;33m\u001b[0m\u001b[0m\n",
      "\u001b[1;31mIndexError\u001b[0m: list assignment index out of range"
     ]
    }
   ],
   "source": [
    "def descriptive_statistics(x) : \n",
    "    return pd.Series([x.mean(),x.median(),x.std(),x.var(),\n",
    "                      x.kurt(),x.skew(),x.min(),x.max(),x.sum(),\n",
    "                      x.count(),x.quantile(.25), x.quantile(.75)],index=['mean','median',\n",
    "                      'std','var','kurtosis','skewness','min','max','sum',\n",
    "                      'count','25%','75%'])                      \n",
    "# descriptive_statistics_result = pd.DataFrame(data, columns=['RETURN'])\n",
    "# descriptive_statistics_result.apply(descriptive_statistics)\n",
    "\n",
    "result = []\n",
    "result_description = []\n",
    "for idx in range(len(data)):\n",
    "    result[idx] = pd.DataFrame(data[idx], columns=['RETURN'])\n",
    "    result_description[idx] = result[idx].apply(descriptive_statistics)\n",
    "\n",
    "# result2498 = pd.DataFrame(data2498, columns=['RETURN'])\n",
    "# result2498_description = result2498.apply(descriptive_statistics)\n",
    "\n",
    "# result9999 = pd.DataFrame(data9999, columns=['RETURN'])\n",
    "# result9999_description = result9999.apply(descriptive_statistics)\n",
    "\n",
    "# descriptive_statistics_result = [result2357_description, result2498_description, result9999_description]\n",
    "# descriptive_statistics_result\n",
    "# result = pd.concat([result2498_description.squeeze().rename(\"2498\"), result2357_description.squeeze().rename(\"2357\"), result9999_description.squeeze().rename(\"9999\")], axis = 1)\n",
    "# result = pd.append(data2357.RETURN,data2498.RETURN,data9999.RETURN)\n",
    "# result.columns=['2498','2357','9999']\n",
    "# result.head()\n",
    "\n",
    "#合併三個資料的Return\n",
    "result = pd.DataFrame(data).T\n",
    "result.columns =  [\"2603\", \"2607\", \"2608\", \"2642\", \"5607\"]\n",
    "result\n",
    "\n",
    "# #合併三個資料的Description Statistics\n",
    "# result_description = pd.concat([result2357_description, result2498_description, result9999_description], axis = 1)\n",
    "# result_description.columns = ['2357','2498','9999']\n",
    "# result_description"
   ]
  },
  {
   "cell_type": "code",
   "execution_count": 254,
   "id": "a1fae05e",
   "metadata": {},
   "outputs": [],
   "source": [
    "#呼叫畫圖的套件，利用matplotlib的pyplot.bar功能\n",
    "import matplotlib.pyplot as plt\n",
    "from matplotlib.font_manager import FontProperties"
   ]
  },
  {
   "cell_type": "code",
   "execution_count": 303,
   "id": "b970ad43",
   "metadata": {},
   "outputs": [
    {
     "data": {
      "image/png": "[encoded data removed]",
      "text/plain": [
       "<Figure size 432x288 with 1 Axes>"
      ]
     },
     "metadata": {
      "needs_background": "light"
     },
     "output_type": "display_data"
    },
    {
     "data": {
      "image/png": "[encoded data removed]",
      "text/plain": [
       "<Figure size 432x288 with 1 Axes>"
      ]
     },
     "metadata": {
      "needs_background": "light"
     },
     "output_type": "display_data"
    },
    {
     "data": {
      "image/png": "[encoded data removed]",
      "text/plain": [
       "<Figure size 432x288 with 1 Axes>"
      ]
     },
     "metadata": {
      "needs_background": "light"
     },
     "output_type": "display_data"
    },
    {
     "data": {
      "image/png": "[encoded data removed]",
      "text/plain": [
       "<Figure size 432x288 with 1 Axes>"
      ]
     },
     "metadata": {
      "needs_background": "light"
     },
     "output_type": "display_data"
    },
    {
     "data": {
      "image/png": "[encoded data removed]",
      "text/plain": [
       "<Figure size 432x288 with 1 Axes>"
      ]
     },
     "metadata": {
      "needs_background": "light"
     },
     "output_type": "display_data"
    },
    {
     "data": {
      "text/plain": [
       "<Figure size 432x288 with 0 Axes>"
      ]
     },
     "metadata": {},
     "output_type": "display_data"
    }
   ],
   "source": [
    "#第一種直方圖 #單一圖形\n",
    "unit = \"minute\"\n",
    "for idx in range(len(data)):\n",
    "  plt.hist(data[idx].RETURN, bins= 50)\n",
    "  # plt.xticks(np.arange(-0.01, 0.01, 0.002))\n",
    "  plt.xlim(-0.01,0.01)\n",
    "  plt.ylim(0,6000)\n",
    "  plt.title(list[idx] + unit)\n",
    "  plt.savefig(\"./\" + list[idx]+ unit +\".png\")\n",
    "  plt.show()\n",
    "  plt.clf()\n",
    "#bins代表直方圖分佈區間個數，range用於設定直方圖的小矩形最大值與最小值"
   ]
  },
  {
   "cell_type": "code",
   "execution_count": 260,
   "id": "e0e4034c",
   "metadata": {},
   "outputs": [
    {
     "data": {
      "image/png": "[encoded data removed]",
      "text/plain": [
       "<Figure size 432x288 with 1 Axes>"
      ]
     },
     "metadata": {
      "needs_background": "light"
     },
     "output_type": "display_data"
    }
   ],
   "source": [
    "#第三種直方圖 \n",
    "colorType = ['red','darkorange', 'g', 'dodgerblue','crimson']\n",
    "for idx in range(len(data)):\n",
    "  plt.hist(data[idx].RETURN, bins=50, density=True, label=list[idx],color = colorType[idx])\n",
    "  plt.xlim(-0.0075,0.0075)\n",
    "\n",
    "plt.legend()\n",
    "plt.xlabel('Return')\n",
    "plt.ylabel('Probability density')\n",
    "plt.title(\"Return\")\n",
    "plt.savefig(\"./\" + unit +\".png\")"
   ]
  },
  {
   "cell_type": "code",
   "execution_count": null,
   "id": "8a9b11b7",
   "metadata": {},
   "outputs": [],
   "source": []
  }
 ],
 "metadata": {
  "kernelspec": {
   "display_name": "Python 3",
   "language": "python",
   "name": "python3"
  },
  "language_info": {
   "codemirror_mode": {
    "name": "ipython",
    "version": 3
   },
   "file_extension": ".py",
   "mimetype": "text/x-python",
   "name": "python",
   "nbconvert_exporter": "python",
   "pygments_lexer": "ipython3",
   "version": "3.10.3"
  },
  "vscode": {
   "interpreter": {
    "hash": "369f2c481f4da34e4445cda3fffd2e751bd1c4d706f27375911949ba6bb62e1c"
   }
  }
 },
 "nbformat": 4,
 "nbformat_minor": 5
}
