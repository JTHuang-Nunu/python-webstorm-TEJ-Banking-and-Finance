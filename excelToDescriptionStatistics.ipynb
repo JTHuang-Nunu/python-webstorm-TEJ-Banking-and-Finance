{
 "cells": [
  {
   "cell_type": "code",
   "execution_count": 1,
   "id": "f7fb3b17",
   "metadata": {},
   "outputs": [],
   "source": [
    "#呼叫所需套件\n",
    "import pandas as pd\n",
    "import numpy as np\n",
    "import glob\n",
    "import os\n",
    "from scipy import stats"
   ]
  },
  {
   "cell_type": "code",
   "execution_count": 21,
   "id": "6319f3fb",
   "metadata": {},
   "outputs": [
    {
     "name": "stdout",
     "output_type": "stream",
     "text": [
      "d:\\USER\\Documents\\#tmp\\python\\python-webstorm-TEJ-Banking-and-Finance\\data\\csv\\\n",
      "sample_data:  ['d:\\\\USER\\\\Documents\\\\#tmp\\\\python\\\\python-webstorm-TEJ-Banking-and-Finance\\\\data\\\\csv\\\\2303.csv', 'd:\\\\USER\\\\Documents\\\\#tmp\\\\python\\\\python-webstorm-TEJ-Banking-and-Finance\\\\data\\\\csv\\\\2330.csv', 'd:\\\\USER\\\\Documents\\\\#tmp\\\\python\\\\python-webstorm-TEJ-Banking-and-Finance\\\\data\\\\csv\\\\2408.csv', 'd:\\\\USER\\\\Documents\\\\#tmp\\\\python\\\\python-webstorm-TEJ-Banking-and-Finance\\\\data\\\\csv\\\\2449.csv', 'd:\\\\USER\\\\Documents\\\\#tmp\\\\python\\\\python-webstorm-TEJ-Banking-and-Finance\\\\data\\\\csv\\\\2451.csv', 'd:\\\\USER\\\\Documents\\\\#tmp\\\\python\\\\python-webstorm-TEJ-Banking-and-Finance\\\\data\\\\csv\\\\2454.csv', 'd:\\\\USER\\\\Documents\\\\#tmp\\\\python\\\\python-webstorm-TEJ-Banking-and-Finance\\\\data\\\\csv\\\\2603.csv', 'd:\\\\USER\\\\Documents\\\\#tmp\\\\python\\\\python-webstorm-TEJ-Banking-and-Finance\\\\data\\\\csv\\\\2607.csv', 'd:\\\\USER\\\\Documents\\\\#tmp\\\\python\\\\python-webstorm-TEJ-Banking-and-Finance\\\\data\\\\csv\\\\2608.csv', 'd:\\\\USER\\\\Documents\\\\#tmp\\\\python\\\\python-webstorm-TEJ-Banking-and-Finance\\\\data\\\\csv\\\\2609.csv', 'd:\\\\USER\\\\Documents\\\\#tmp\\\\python\\\\python-webstorm-TEJ-Banking-and-Finance\\\\data\\\\csv\\\\2610.csv', 'd:\\\\USER\\\\Documents\\\\#tmp\\\\python\\\\python-webstorm-TEJ-Banking-and-Finance\\\\data\\\\csv\\\\2612.csv', 'd:\\\\USER\\\\Documents\\\\#tmp\\\\python\\\\python-webstorm-TEJ-Banking-and-Finance\\\\data\\\\csv\\\\2615.csv', 'd:\\\\USER\\\\Documents\\\\#tmp\\\\python\\\\python-webstorm-TEJ-Banking-and-Finance\\\\data\\\\csv\\\\2630.csv', 'd:\\\\USER\\\\Documents\\\\#tmp\\\\python\\\\python-webstorm-TEJ-Banking-and-Finance\\\\data\\\\csv\\\\2642.csv', 'd:\\\\USER\\\\Documents\\\\#tmp\\\\python\\\\python-webstorm-TEJ-Banking-and-Finance\\\\data\\\\csv\\\\2801.csv', 'd:\\\\USER\\\\Documents\\\\#tmp\\\\python\\\\python-webstorm-TEJ-Banking-and-Finance\\\\data\\\\csv\\\\2880.csv', 'd:\\\\USER\\\\Documents\\\\#tmp\\\\python\\\\python-webstorm-TEJ-Banking-and-Finance\\\\data\\\\csv\\\\2881.csv', 'd:\\\\USER\\\\Documents\\\\#tmp\\\\python\\\\python-webstorm-TEJ-Banking-and-Finance\\\\data\\\\csv\\\\2882.csv', 'd:\\\\USER\\\\Documents\\\\#tmp\\\\python\\\\python-webstorm-TEJ-Banking-and-Finance\\\\data\\\\csv\\\\2884.csv', 'd:\\\\USER\\\\Documents\\\\#tmp\\\\python\\\\python-webstorm-TEJ-Banking-and-Finance\\\\data\\\\csv\\\\2885.csv', 'd:\\\\USER\\\\Documents\\\\#tmp\\\\python\\\\python-webstorm-TEJ-Banking-and-Finance\\\\data\\\\csv\\\\2886.csv', 'd:\\\\USER\\\\Documents\\\\#tmp\\\\python\\\\python-webstorm-TEJ-Banking-and-Finance\\\\data\\\\csv\\\\2888.csv', 'd:\\\\USER\\\\Documents\\\\#tmp\\\\python\\\\python-webstorm-TEJ-Banking-and-Finance\\\\data\\\\csv\\\\2891.csv', 'd:\\\\USER\\\\Documents\\\\#tmp\\\\python\\\\python-webstorm-TEJ-Banking-and-Finance\\\\data\\\\csv\\\\2892.csv', 'd:\\\\USER\\\\Documents\\\\#tmp\\\\python\\\\python-webstorm-TEJ-Banking-and-Finance\\\\data\\\\csv\\\\3592.csv', 'd:\\\\USER\\\\Documents\\\\#tmp\\\\python\\\\python-webstorm-TEJ-Banking-and-Finance\\\\data\\\\csv\\\\5607.csv', 'd:\\\\USER\\\\Documents\\\\#tmp\\\\python\\\\python-webstorm-TEJ-Banking-and-Finance\\\\data\\\\csv\\\\6770.csv', 'd:\\\\USER\\\\Documents\\\\#tmp\\\\python\\\\python-webstorm-TEJ-Banking-and-Finance\\\\data\\\\csv\\\\8016.csv', 'd:\\\\USER\\\\Documents\\\\#tmp\\\\python\\\\python-webstorm-TEJ-Banking-and-Finance\\\\data\\\\csv\\\\8131.csv']\n"
     ]
    }
   ],
   "source": [
    "type = ['Semi-Conductor 202211', 'Finance 202211', 'Shipping  202211']\n",
    "path = os.getcwd() + '\\\\data\\\\csv\\\\'\n",
    "print(path)\n",
    "\n",
    "# loop over the list of csv files\n",
    "# 0 = Semi-Conductor, 1 = Finance, 2 = Shipping\n",
    "sample_data = glob.glob(os.path.join(path, \"*.csv\"))\n",
    "print(\"sample_data: \",sample_data)\n",
    "# for f in sample_data:\n",
    "#   df = pd.read_csv(f)\n"
   ]
  },
  {
   "cell_type": "code",
   "execution_count": 69,
   "id": "ca516bab",
   "metadata": {},
   "outputs": [],
   "source": [
    "# 呼叫CSV檔\n",
    "# data2801 = pd.read_excel(\"path[]hw2_TEJ_excel.xlsx\",sheet_name=\"2357華碩\")\n",
    "# data2498 = pd.read_excel(\"hw2_TEJ_excel.xlsx\",sheet_name=\"2498宏達電\")\n",
    "# data9999 = pd.read_excel(\"hw2_TEJ_excel.xlsx\",sheet_name=\"Y9999加權指數\")\n",
    "file_list = [\"2603.csv\", \"2607.csv\", \"2608.csv\", \"2642.csv\", \"5607.csv\"]\n",
    "list = [\"2603\", \"2607\", \"2608\", \"2642\", \"5607\"]\n",
    "data = [pd.read_csv(os.path.join(path, csv_filename)) for csv_filename in file_list]"
   ]
  },
  {
   "cell_type": "code",
   "execution_count": 70,
   "id": "ddb8d953",
   "metadata": {},
   "outputs": [
    {
     "name": "stdout",
     "output_type": "stream",
     "text": [
      "0            NaN\n",
      "1       0.007299\n",
      "2      -0.003643\n",
      "3       0.000000\n",
      "4       0.000000\n",
      "          ...   \n",
      "5935    0.000000\n",
      "5936    0.000000\n",
      "5937    0.000000\n",
      "5938    0.000000\n",
      "5939    0.003072\n",
      "Name: RETURN, Length: 5940, dtype: float64\n",
      "0            NaN\n",
      "1       0.005764\n",
      "2       0.000000\n",
      "3      -0.001918\n",
      "4       0.000000\n",
      "          ...   \n",
      "5935    0.000000\n",
      "5936    0.000000\n",
      "5937    0.000000\n",
      "5938    0.000000\n",
      "5939   -0.001753\n",
      "Name: RETURN, Length: 5940, dtype: float64\n",
      "0           NaN\n",
      "1       0.00000\n",
      "2       0.00000\n",
      "3       0.00000\n",
      "4       0.00000\n",
      "         ...   \n",
      "5935    0.00000\n",
      "5936    0.00000\n",
      "5937    0.00000\n",
      "5938    0.00000\n",
      "5939    0.00134\n",
      "Name: RETURN, Length: 5940, dtype: float64\n",
      "0            NaN\n",
      "1       0.001163\n",
      "2       0.009259\n",
      "3      -0.001153\n",
      "4      -0.003466\n",
      "          ...   \n",
      "5935    0.000000\n",
      "5936    0.000000\n",
      "5937    0.000000\n",
      "5938    0.000000\n",
      "5939   -0.002179\n",
      "Name: RETURN, Length: 5940, dtype: float64\n",
      "0            NaN\n",
      "1       0.000000\n",
      "2      -0.001944\n",
      "3       0.000000\n",
      "4       0.000000\n",
      "          ...   \n",
      "5935    0.000000\n",
      "5936    0.000000\n",
      "5937    0.000000\n",
      "5938    0.000000\n",
      "5939   -0.018019\n",
      "Name: RETURN, Length: 5940, dtype: float64\n"
     ]
    }
   ],
   "source": [
    "# # Create three stock RETURN\n",
    "# data2357['RETURN']=np.log(data2357.CLOSE) - np.log(data2357.CLOSE.shift(1))\n",
    "# data2498['RETURN']=np.log(data2498.CLOSE) - np.log(data2498.CLOSE.shift(1))\n",
    "# data9999['RETURN']=np.log(data9999.CLOSE) - np.log(data9999.CLOSE.shift(1))\n",
    "for i in data:\n",
    "  i['RETURN']=np.log(i.loc[:, \"收盤價\"]) - np.log(i.loc[:, \"收盤價\"].shift(1))\n",
    "  print(i['RETURN'])\n",
    "# print(data[0]['RETURN'])"
   ]
  },
  {
   "cell_type": "markdown",
   "id": "ca8aa408",
   "metadata": {},
   "source": [
    "# Descriptive Statistics"
   ]
  },
  {
   "cell_type": "code",
   "execution_count": 166,
   "id": "d10e6693",
   "metadata": {},
   "outputs": [
    {
     "data": {
      "text/html": [
       "<div>\n",
       "<style scoped>\n",
       "    .dataframe tbody tr th:only-of-type {\n",
       "        vertical-align: middle;\n",
       "    }\n",
       "\n",
       "    .dataframe tbody tr th {\n",
       "        vertical-align: top;\n",
       "    }\n",
       "\n",
       "    .dataframe thead th {\n",
       "        text-align: right;\n",
       "    }\n",
       "</style>\n",
       "<table border=\"1\" class=\"dataframe\">\n",
       "  <thead>\n",
       "    <tr style=\"text-align: right;\">\n",
       "      <th></th>\n",
       "      <th>2603</th>\n",
       "      <th>2607</th>\n",
       "      <th>2608</th>\n",
       "      <th>2642</th>\n",
       "      <th>5607</th>\n",
       "    </tr>\n",
       "  </thead>\n",
       "  <tbody>\n",
       "    <tr>\n",
       "      <th>0</th>\n",
       "      <td>NaN</td>\n",
       "      <td>NaN</td>\n",
       "      <td>NaN</td>\n",
       "      <td>NaN</td>\n",
       "      <td>NaN</td>\n",
       "    </tr>\n",
       "    <tr>\n",
       "      <th>1</th>\n",
       "      <td>0.007299</td>\n",
       "      <td>0.005764</td>\n",
       "      <td>0.00000</td>\n",
       "      <td>0.001163</td>\n",
       "      <td>0.000000</td>\n",
       "    </tr>\n",
       "    <tr>\n",
       "      <th>2</th>\n",
       "      <td>-0.003643</td>\n",
       "      <td>0.000000</td>\n",
       "      <td>0.00000</td>\n",
       "      <td>0.009259</td>\n",
       "      <td>-0.001944</td>\n",
       "    </tr>\n",
       "    <tr>\n",
       "      <th>3</th>\n",
       "      <td>0.000000</td>\n",
       "      <td>-0.001918</td>\n",
       "      <td>0.00000</td>\n",
       "      <td>-0.001153</td>\n",
       "      <td>0.000000</td>\n",
       "    </tr>\n",
       "    <tr>\n",
       "      <th>4</th>\n",
       "      <td>0.000000</td>\n",
       "      <td>0.000000</td>\n",
       "      <td>0.00000</td>\n",
       "      <td>-0.003466</td>\n",
       "      <td>0.000000</td>\n",
       "    </tr>\n",
       "    <tr>\n",
       "      <th>...</th>\n",
       "      <td>...</td>\n",
       "      <td>...</td>\n",
       "      <td>...</td>\n",
       "      <td>...</td>\n",
       "      <td>...</td>\n",
       "    </tr>\n",
       "    <tr>\n",
       "      <th>5935</th>\n",
       "      <td>0.000000</td>\n",
       "      <td>0.000000</td>\n",
       "      <td>0.00000</td>\n",
       "      <td>0.000000</td>\n",
       "      <td>0.000000</td>\n",
       "    </tr>\n",
       "    <tr>\n",
       "      <th>5936</th>\n",
       "      <td>0.000000</td>\n",
       "      <td>0.000000</td>\n",
       "      <td>0.00000</td>\n",
       "      <td>0.000000</td>\n",
       "      <td>0.000000</td>\n",
       "    </tr>\n",
       "    <tr>\n",
       "      <th>5937</th>\n",
       "      <td>0.000000</td>\n",
       "      <td>0.000000</td>\n",
       "      <td>0.00000</td>\n",
       "      <td>0.000000</td>\n",
       "      <td>0.000000</td>\n",
       "    </tr>\n",
       "    <tr>\n",
       "      <th>5938</th>\n",
       "      <td>0.000000</td>\n",
       "      <td>0.000000</td>\n",
       "      <td>0.00000</td>\n",
       "      <td>0.000000</td>\n",
       "      <td>0.000000</td>\n",
       "    </tr>\n",
       "    <tr>\n",
       "      <th>5939</th>\n",
       "      <td>0.003072</td>\n",
       "      <td>-0.001753</td>\n",
       "      <td>0.00134</td>\n",
       "      <td>-0.002179</td>\n",
       "      <td>-0.018019</td>\n",
       "    </tr>\n",
       "  </tbody>\n",
       "</table>\n",
       "<p>5940 rows × 5 columns</p>\n",
       "</div>"
      ],
      "text/plain": [
       "          2603      2607     2608      2642      5607\n",
       "0          NaN       NaN      NaN       NaN       NaN\n",
       "1     0.007299  0.005764  0.00000  0.001163  0.000000\n",
       "2    -0.003643  0.000000  0.00000  0.009259 -0.001944\n",
       "3     0.000000 -0.001918  0.00000 -0.001153  0.000000\n",
       "4     0.000000  0.000000  0.00000 -0.003466  0.000000\n",
       "...        ...       ...      ...       ...       ...\n",
       "5935  0.000000  0.000000  0.00000  0.000000  0.000000\n",
       "5936  0.000000  0.000000  0.00000  0.000000  0.000000\n",
       "5937  0.000000  0.000000  0.00000  0.000000  0.000000\n",
       "5938  0.000000  0.000000  0.00000  0.000000  0.000000\n",
       "5939  0.003072 -0.001753  0.00134 -0.002179 -0.018019\n",
       "\n",
       "[5940 rows x 5 columns]"
      ]
     },
     "execution_count": 166,
     "metadata": {},
     "output_type": "execute_result"
    }
   ],
   "source": [
    "def descriptive_statistics(x) : \n",
    "    return pd.Series([x.mean(),x.median(),x.std(),x.var(),\n",
    "                      x.kurt(),x.skew(),x.min(),x.max(),x.sum(),\n",
    "                      x.count(),x.quantile(.25), x.quantile(.75)],index=['mean','median',\n",
    "                      'std','var','kurtosis','skewness','min','max','sum',\n",
    "                      'count','25%','75%'])     \n",
    "result = []\n",
    "result_description =  []\n",
    "for idx in range(len(data)):\n",
    "  result.append(pd.DataFrame(data[idx], columns=['RETURN']))\n",
    "  result_description.append(result[idx].apply(descriptive_statistics))\n",
    "result = pd.concat(result, axis = 1)\n",
    "# result = pd.DataFrame(result).T\n",
    "result.columns =  list\n",
    "result\n",
    "# print(result)\n",
    "# print(result_description)"
   ]
  },
  {
   "cell_type": "code",
   "execution_count": 160,
   "id": "79ac670d",
   "metadata": {
    "scrolled": true
   },
   "outputs": [
    {
     "ename": "IndexError",
     "evalue": "list assignment index out of range",
     "output_type": "error",
     "traceback": [
      "\u001b[1;31m---------------------------------------------------------------------------\u001b[0m",
      "\u001b[1;31mIndexError\u001b[0m                                Traceback (most recent call last)",
      "\u001b[1;32m<ipython-input-160-d681d749893e>\u001b[0m in \u001b[0;36m<module>\u001b[1;34m\u001b[0m\n\u001b[0;32m     11\u001b[0m \u001b[0mresult_description\u001b[0m \u001b[1;33m=\u001b[0m \u001b[1;33m[\u001b[0m\u001b[1;33m]\u001b[0m\u001b[1;33m\u001b[0m\u001b[1;33m\u001b[0m\u001b[0m\n\u001b[0;32m     12\u001b[0m \u001b[1;32mfor\u001b[0m \u001b[0midx\u001b[0m \u001b[1;32min\u001b[0m \u001b[0mrange\u001b[0m\u001b[1;33m(\u001b[0m\u001b[0mlen\u001b[0m\u001b[1;33m(\u001b[0m\u001b[0mdata\u001b[0m\u001b[1;33m)\u001b[0m\u001b[1;33m)\u001b[0m\u001b[1;33m:\u001b[0m\u001b[1;33m\u001b[0m\u001b[1;33m\u001b[0m\u001b[0m\n\u001b[1;32m---> 13\u001b[1;33m     \u001b[0mresult\u001b[0m\u001b[1;33m[\u001b[0m\u001b[0midx\u001b[0m\u001b[1;33m]\u001b[0m \u001b[1;33m=\u001b[0m \u001b[0mpd\u001b[0m\u001b[1;33m.\u001b[0m\u001b[0mDataFrame\u001b[0m\u001b[1;33m(\u001b[0m\u001b[0mdata\u001b[0m\u001b[1;33m[\u001b[0m\u001b[0midx\u001b[0m\u001b[1;33m]\u001b[0m\u001b[1;33m,\u001b[0m \u001b[0mcolumns\u001b[0m\u001b[1;33m=\u001b[0m\u001b[1;33m[\u001b[0m\u001b[1;34m'RETURN'\u001b[0m\u001b[1;33m]\u001b[0m\u001b[1;33m)\u001b[0m\u001b[1;33m\u001b[0m\u001b[1;33m\u001b[0m\u001b[0m\n\u001b[0m\u001b[0;32m     14\u001b[0m     \u001b[0mresult_description\u001b[0m\u001b[1;33m[\u001b[0m\u001b[0midx\u001b[0m\u001b[1;33m]\u001b[0m \u001b[1;33m=\u001b[0m \u001b[0mresult\u001b[0m\u001b[1;33m[\u001b[0m\u001b[0midx\u001b[0m\u001b[1;33m]\u001b[0m\u001b[1;33m.\u001b[0m\u001b[0mapply\u001b[0m\u001b[1;33m(\u001b[0m\u001b[0mdescriptive_statistics\u001b[0m\u001b[1;33m)\u001b[0m\u001b[1;33m\u001b[0m\u001b[1;33m\u001b[0m\u001b[0m\n\u001b[0;32m     15\u001b[0m \u001b[1;33m\u001b[0m\u001b[0m\n",
      "\u001b[1;31mIndexError\u001b[0m: list assignment index out of range"
     ]
    }
   ],
   "source": [
    "def descriptive_statistics(x) : \n",
    "    return pd.Series([x.mean(),x.median(),x.std(),x.var(),\n",
    "                      x.kurt(),x.skew(),x.min(),x.max(),x.sum(),\n",
    "                      x.count(),x.quantile(.25), x.quantile(.75)],index=['mean','median',\n",
    "                      'std','var','kurtosis','skewness','min','max','sum',\n",
    "                      'count','25%','75%'])                      \n",
    "# descriptive_statistics_result = pd.DataFrame(data, columns=['RETURN'])\n",
    "# descriptive_statistics_result.apply(descriptive_statistics)\n",
    "\n",
    "result = []\n",
    "result_description = []\n",
    "for idx in range(len(data)):\n",
    "    result[idx] = pd.DataFrame(data[idx], columns=['RETURN'])\n",
    "    result_description[idx] = result[idx].apply(descriptive_statistics)\n",
    "\n",
    "# result2498 = pd.DataFrame(data2498, columns=['RETURN'])\n",
    "# result2498_description = result2498.apply(descriptive_statistics)\n",
    "\n",
    "# result9999 = pd.DataFrame(data9999, columns=['RETURN'])\n",
    "# result9999_description = result9999.apply(descriptive_statistics)\n",
    "\n",
    "# descriptive_statistics_result = [result2357_description, result2498_description, result9999_description]\n",
    "# descriptive_statistics_result\n",
    "# result = pd.concat([result2498_description.squeeze().rename(\"2498\"), result2357_description.squeeze().rename(\"2357\"), result9999_description.squeeze().rename(\"9999\")], axis = 1)\n",
    "# result = pd.append(data2357.RETURN,data2498.RETURN,data9999.RETURN)\n",
    "# result.columns=['2498','2357','9999']\n",
    "# result.head()\n",
    "\n",
    "#合併三個資料的Return\n",
    "result = pd.DataFrame(data).T\n",
    "result.columns =  [\"2603\", \"2607\", \"2608\", \"2642\", \"5607\"]\n",
    "result\n",
    "\n",
    "# #合併三個資料的Description Statistics\n",
    "# result_description = pd.concat([result2357_description, result2498_description, result9999_description], axis = 1)\n",
    "# result_description.columns = ['2357','2498','9999']\n",
    "# result_description"
   ]
  },
  {
   "cell_type": "markdown",
   "id": "31372906",
   "metadata": {},
   "source": [
    "# 常見的圖形繪製\n",
    "# (1)直方圖"
   ]
  },
  {
   "cell_type": "code",
   "execution_count": 108,
   "id": "a1fae05e",
   "metadata": {},
   "outputs": [],
   "source": [
    "#呼叫畫圖的套件，利用matplotlib的pyplot.bar功能\n",
    "import matplotlib.pyplot as plt\n",
    "from matplotlib.font_manager import FontProperties"
   ]
  },
  {
   "cell_type": "code",
   "execution_count": 183,
   "id": "b970ad43",
   "metadata": {},
   "outputs": [
    {
     "data": {
      "image/png": "[encoded data removed]",
      "text/plain": [
       "<Figure size 432x288 with 1 Axes>"
      ]
     },
     "metadata": {
      "needs_background": "light"
     },
     "output_type": "display_data"
    },
    {
     "data": {
      "image/png": "[encoded data removed]",
      "text/plain": [
       "<Figure size 432x288 with 1 Axes>"
      ]
     },
     "metadata": {
      "needs_background": "light"
     },
     "output_type": "display_data"
    },
    {
     "data": {
      "image/png": "[encoded data removed]",
      "text/plain": [
       "<Figure size 432x288 with 1 Axes>"
      ]
     },
     "metadata": {
      "needs_background": "light"
     },
     "output_type": "display_data"
    },
    {
     "data": {
      "image/png": "[encoded data removed]",
      "text/plain": [
       "<Figure size 432x288 with 1 Axes>"
      ]
     },
     "metadata": {
      "needs_background": "light"
     },
     "output_type": "display_data"
    },
    {
     "data": {
      "image/png": "[encoded data removed]",
      "text/plain": [
       "<Figure size 432x288 with 1 Axes>"
      ]
     },
     "metadata": {
      "needs_background": "light"
     },
     "output_type": "display_data"
    },
    {
     "data": {
      "text/plain": [
       "<Figure size 432x288 with 0 Axes>"
      ]
     },
     "metadata": {},
     "output_type": "display_data"
    }
   ],
   "source": [
    "#第一種直方圖 #單一圖形\n",
    "unit = \"minute\"\n",
    "for idx in  range(len(data)):\n",
    "  plt.hist(data[idx].RETURN, bins= 70)\n",
    "  plt.xlim(-0.01,0.01)\n",
    "  plt.ylim(0,6000)\n",
    "  plt.title(list[idx] + unit)\n",
    "  plt.savefig(\"./\" + list[idx]+ unit +\".png\")\n",
    "  plt.show()\n",
    "  plt.clf()\n",
    "  # plt.gca().xaxis.set_major_locator(0.01)\n",
    "#bins代表直方圖分佈區間個數，range用於設定直方圖的小矩形最大值與最小值"
   ]
  },
  {
   "cell_type": "code",
   "execution_count": null,
   "id": "7596bd50",
   "metadata": {},
   "outputs": [],
   "source": [
    "#第二種直方圖 \n",
    "fig=plt.figure(figsize=(10,20))\n",
    "\n",
    "#繪製2357直方圖\n",
    "p1=fig.add_subplot(311)\n",
    "plt.hist(result['2357'],bins=50,rwidth=0.9)\n",
    "plt.xlabel('Return')\n",
    "plt.title(\"ASUS\")\n",
    "\n",
    "#繪製2498直方圖\n",
    "p2=fig.add_subplot(312)\n",
    "plt.hist(result['2498'],bins=50,rwidth=0.9)\n",
    "plt.xlabel('Return')\n",
    "plt.title(\"HTC\")\n",
    "\n",
    "#繪製9999直方圖\n",
    "p3=fig.add_subplot(313)\n",
    "plt.hist(result['9999'],bins=50,rwidth=0.9)\n",
    "plt.xlabel('Return')\n",
    "plt.title(\"9999\")\n",
    "\n",
    "plt.savefig(\"./RETURN.png\")"
   ]
  },
  {
   "cell_type": "code",
   "execution_count": 179,
   "id": "e0e4034c",
   "metadata": {},
   "outputs": [
    {
     "name": "stderr",
     "output_type": "stream",
     "text": [
      "e:\\Anaconda\\lib\\site-packages\\numpy\\lib\\histograms.py:839: RuntimeWarning: invalid value encountered in greater_equal\n",
      "  keep = (tmp_a >= first_edge)\n",
      "e:\\Anaconda\\lib\\site-packages\\numpy\\lib\\histograms.py:840: RuntimeWarning: invalid value encountered in less_equal\n",
      "  keep &= (tmp_a <= last_edge)\n"
     ]
    },
    {
     "data": {
      "image/png": "[encoded data removed]",
      "text/plain": [
       "<Figure size 432x288 with 1 Axes>"
      ]
     },
     "metadata": {
      "needs_background": "light"
     },
     "output_type": "display_data"
    }
   ],
   "source": [
    "#第三種直方圖 \n",
    "# plt.hist(result['2357'],bins=50, density=True,label='2357ASUS return',color='r')\n",
    "# plt.hist(result['2498'],bins=50, density=True,label='2498HTC return',color='g')\n",
    "# plt.hist(result['9999'],bins=50, density=True,label='9999 return',color='b')\n",
    "colorType = ['red','darkorange', 'g', 'dodgerblue','crimson']\n",
    "# print(data[0].RETURN)\n",
    "for idx in range(len(data)):\n",
    "  plt.hist(data[idx].RETURN, bins=70, density=True, label=list[idx],color = colorType[idx])\n",
    "  plt.xlim(-0.01,0.01)\n",
    "\n",
    "plt.legend()\n",
    "plt.xlabel('Return')\n",
    "plt.ylabel('Probability density')\n",
    "plt.title(\"Return\")\n",
    "plt.savefig(\"./\" + unit +\".png\")"
   ]
  },
  {
   "cell_type": "code",
   "execution_count": null,
   "id": "8a9b11b7",
   "metadata": {},
   "outputs": [],
   "source": []
  }
 ],
 "metadata": {
  "kernelspec": {
   "display_name": "Python 3",
   "language": "python",
   "name": "python3"
  },
  "language_info": {
   "codemirror_mode": {
    "name": "ipython",
    "version": 3
   },
   "file_extension": ".py",
   "mimetype": "text/x-python",
   "name": "python",
   "nbconvert_exporter": "python",
   "pygments_lexer": "ipython3",
   "version": "3.7.6"
  },
  "vscode": {
   "interpreter": {
    "hash": "91bb753b057673435fb8d6f6a083e6c818364728098c7ae050ca3a25357dd754"
   }
  }
 },
 "nbformat": 4,
 "nbformat_minor": 5
}
