{
 "cells": [
  {
   "cell_type": "code",
   "execution_count": 2,
   "id": "f7fb3b17",
   "metadata": {},
   "outputs": [],
   "source": [
    "#呼叫所需套件\n",
    "import pandas as pd\n",
    "import numpy as np\n",
    "import glob\n",
    "import os\n",
    "from scipy import stats"
   ]
  },
  {
   "cell_type": "code",
   "execution_count": 3,
   "id": "6319f3fb",
   "metadata": {},
   "outputs": [
    {
     "name": "stdout",
     "output_type": "stream",
     "text": [
      "c:\\Users\\User\\Documents\\#tmp\\python-\\python-webstorm-TEJ-Banking-and-Finance\\data\\total\\\n"
     ]
    }
   ],
   "source": [
    "type = ['Semi-Conductor 202211', 'Finance 202211', 'Shipping  202211']\n",
    "path = os.getcwd() + '\\\\data\\\\total\\\\'\n",
    "print(path)\n",
    "\n",
    "# loop over the list of xlsx files\n",
    "# 0 = Semi-Conductor, 1 = Finance, 2 = Shipping\n",
    "# sample_data = glob.glob(os.path.join(path, \"*.xlsx\"))\n",
    "# print(\"sample_data: \",sample_data)\n",
    "# for f in sample_data:\n",
    "#   df = pd.read_xlsx(f)\n"
   ]
  },
  {
   "cell_type": "code",
   "execution_count": 29,
   "id": "ca516bab",
   "metadata": {},
   "outputs": [
    {
     "name": "stdout",
     "output_type": "stream",
     "text": [
      "[            年月日  開盤價(元)  最高價(元)  最低價(元)    收盤價  成交量(千股)   成交值(千元)    報酬率％  \\\n",
      "0    2022/12/27    65.5    66.2    65.0   65.1    31179   2047147  0.1538   \n",
      "1    2022/12/26    67.0    67.5    65.0   65.0    51728   3407985 -3.4175   \n",
      "2    2022/12/23    67.2    67.8    66.5   67.3    57425   3853306 -1.0294   \n",
      "3    2022/12/22    67.1    68.7    66.6   68.0   150889  10224227  3.5008   \n",
      "4    2022/12/21    64.7    66.5    64.5   65.7    91137   5986689  2.8169   \n",
      "..          ...     ...     ...     ...    ...      ...       ...     ...   \n",
      "242  2022/01/03   120.0   120.5   113.0  114.5   106847  12358012 -5.3719   \n",
      "243  2021/12/30   124.5   125.0   120.0  121.0    82365  10016129 -2.8112   \n",
      "244  2021/12/29   126.0   127.0   124.0  124.5    39155   4908882 -0.4000   \n",
      "245  2021/12/28   124.0   127.0   123.5  125.0    56247   7057509  2.0408   \n",
      "246  2021/12/27   123.5   124.0   122.0  122.5    21460   2640522  0.0000   \n",
      "\n",
      "       週轉率％  流通在外股數(千股)  ...    現金股利率  股價漲跌(元)   高低價差%  次日開盤參考價  次日漲停價  次日跌停價  \\\n",
      "0    0.8928     3492104  ...  30.7220      0.1  1.8462     65.1   71.6   58.6   \n",
      "1    1.4813     3492104  ...  30.7692     -2.3  3.7147     65.0   71.5   58.5   \n",
      "2    1.6444     3492104  ...  29.7177     -0.7  1.9118     67.3   74.0   60.6   \n",
      "3    4.3209     3492104  ...  29.4118      2.3  3.1963     68.0   74.8   61.2   \n",
      "4    2.6098     3492104  ...  30.4414      1.8  3.1299     65.7   72.2   59.2   \n",
      "..      ...         ...  ...      ...      ...     ...      ...    ...    ...   \n",
      "242  3.0597     3492104  ...   0.0000     -6.5  6.1983    114.5  125.5  103.5   \n",
      "243  2.3586     3492104  ...   0.0000     -3.5  4.0161    121.0  133.0  109.0   \n",
      "244  1.1212     3492104  ...   0.0000     -0.5  2.4000    124.5  136.5  112.5   \n",
      "245  1.6107     3492104  ...   0.0000      2.5  2.8571    125.0  137.5  112.5   \n",
      "246  0.6145     3492104  ...   0.0000      0.0  1.6327    122.5  134.5  110.5   \n",
      "\n",
      "     注意股票(A)  處置股票(D)  全額交割(Y)  市場別  \n",
      "0        NaN      NaN      NaN  TSE  \n",
      "1        NaN      NaN      NaN  TSE  \n",
      "2        NaN      NaN      NaN  TSE  \n",
      "3        NaN      NaN      NaN  TSE  \n",
      "4        NaN      NaN      NaN  TSE  \n",
      "..       ...      ...      ...  ...  \n",
      "242      NaN      NaN      NaN  TSE  \n",
      "243      NaN      NaN      NaN  TSE  \n",
      "244      NaN      NaN      NaN  TSE  \n",
      "245      NaN      NaN      NaN  TSE  \n",
      "246      NaN      NaN      NaN  TSE  \n",
      "\n",
      "[247 rows x 34 columns],             年月日  開盤價(元)  最高價(元)  最低價(元)    收盤價  成交量(千股)  成交值(千元)    報酬率％  \\\n",
      "0    2022/12/27   19.80   20.15   19.25  19.35   126421  2481085  1.3089   \n",
      "1    2022/12/26   19.10   19.40   18.95  19.10    26352   505284  0.5263   \n",
      "2    2022/12/23   19.10   19.20   18.90  19.00    26392   501734 -1.5544   \n",
      "3    2022/12/22   19.10   19.55   18.95  19.30    62914  1213079  2.9333   \n",
      "4    2022/12/21   18.30   18.85   18.30  18.75    29283   544413  3.3058   \n",
      "..          ...     ...     ...     ...    ...      ...      ...     ...   \n",
      "242  2022/01/03   27.65   27.80   26.10  26.30   224956  5980572 -4.5372   \n",
      "243  2021/12/30   26.90   27.60   26.85  27.55   144940  3951582  2.9907   \n",
      "244  2021/12/29   27.10   27.60   26.75  26.75   159693  4348177 -0.5576   \n",
      "245  2021/12/28   26.85   27.20   26.75  26.90   113787  3069688 -0.3704   \n",
      "246  2021/12/27   26.20   27.00   26.05  27.00   114941  3044400  3.0534   \n",
      "\n",
      "       週轉率％  流通在外股數(千股)  ...   現金股利率  股價漲跌(元)   高低價差%  次日開盤參考價  次日漲停價  次日跌停價  \\\n",
      "0    2.1023     6013537  ...  4.2969     0.25  4.7120    19.35  21.25  17.45   \n",
      "1    0.4382     6013537  ...  4.3532     0.10  2.3684    19.10  21.00  17.20   \n",
      "2    0.4389     6013537  ...  4.3761    -0.30  1.5544    19.00  20.90  17.10   \n",
      "3    1.0462     6013537  ...  4.3081     0.55  3.2000    19.30  21.20  17.40   \n",
      "4    0.4870     6013537  ...  4.4344     0.60  3.0303    18.75  20.60  16.90   \n",
      "..      ...         ...  ...     ...      ...     ...      ...    ...    ...   \n",
      "242  3.7864     5941224  ...  0.0000    -1.25  6.1706    26.30  28.90  23.70   \n",
      "243  2.4396     5941224  ...  0.0000     0.80  2.8037    27.55  30.30  24.80   \n",
      "244  2.6965     5922305  ...  0.0000    -0.15  3.1599    26.75  29.40  24.10   \n",
      "245  1.9213     5922305  ...  0.0000    -0.10  1.6667    26.90  29.55  24.25   \n",
      "246  1.9408     5922305  ...  0.0000     0.80  3.6260    27.00  29.70  24.30   \n",
      "\n",
      "     注意股票(A)  處置股票(D)  全額交割(Y)  市場別  \n",
      "0        NaN      NaN      NaN  TSE  \n",
      "1        NaN      NaN      NaN  TSE  \n",
      "2        NaN      NaN      NaN  TSE  \n",
      "3        NaN      NaN      NaN  TSE  \n",
      "4        NaN      NaN      NaN  TSE  \n",
      "..       ...      ...      ...  ...  \n",
      "242      NaN      NaN      NaN  TSE  \n",
      "243      NaN      NaN      NaN  TSE  \n",
      "244      NaN      NaN      NaN  TSE  \n",
      "245      NaN      NaN      NaN  TSE  \n",
      "246      NaN      NaN      NaN  TSE  \n",
      "\n",
      "[247 rows x 34 columns],             年月日  開盤價(元)  最高價(元)  最低價(元)    收盤價  成交量(千股)  成交值(千元)    報酬率％  \\\n",
      "0    2022/12/27   41.00    41.9   39.75  40.20     3214   130868 -2.1898   \n",
      "1    2022/12/26   45.50    45.5   40.95  41.10     7682   324125 -9.6703   \n",
      "2    2022/12/23   44.60    45.7   43.95  45.50    20269   907433  2.0179   \n",
      "3    2022/12/22   42.85    44.6   42.05  44.60     4646   204148  9.9877   \n",
      "4    2022/12/21   39.20    41.3   39.05  40.55     6373   256567  7.4172   \n",
      "..          ...     ...     ...     ...    ...      ...      ...     ...   \n",
      "242  2022/01/03   58.90    58.9   57.00  57.20      987    56751 -2.0548   \n",
      "243  2021/12/30   60.00    60.0   58.10  58.40      936    54907 -1.1844   \n",
      "244  2021/12/29   59.40    59.9   59.00  59.10      680    40460  0.3396   \n",
      "245  2021/12/28   59.40    60.4   58.80  58.90     1084    64457 -0.3384   \n",
      "246  2021/12/27   60.00    60.0   59.10  59.10      648    38546 -1.3356   \n",
      "\n",
      "        週轉率％  流通在外股數(千股)  ...   現金股利率  股價漲跌(元)    高低價差%  次日開盤參考價  次日漲停價  \\\n",
      "0     1.6275      197485  ...  6.6666    -0.90   5.2311    40.20  44.20   \n",
      "1     3.8899      197485  ...  6.5207    -4.40  10.0000    41.10  45.20   \n",
      "2    10.2636      197485  ...  5.8901     0.90   3.9238    45.50  50.00   \n",
      "3     2.3526      197485  ...  6.0090     4.05   6.2885    44.60  49.05   \n",
      "4     3.2271      197485  ...  6.6091     2.80   5.9603    40.55  44.60   \n",
      "..       ...         ...  ...     ...      ...      ...      ...    ...   \n",
      "242   0.4998      197485  ...  2.7972    -1.20   3.2534    57.20  62.90   \n",
      "243   0.4740      197485  ...  2.7397    -0.70   3.2149    58.40  64.20   \n",
      "244   0.3443      197485  ...  2.7073     0.20   1.5280    59.10  65.00   \n",
      "245   0.5489      197485  ...  2.7165    -0.20   2.7073    58.90  64.70   \n",
      "246   0.3281      197485  ...  2.7073    -0.80   1.5025    59.10  65.00   \n",
      "\n",
      "     次日跌停價  注意股票(A)  處置股票(D)  全額交割(Y)  市場別  \n",
      "0    36.20      NaN      NaN      NaN  TSE  \n",
      "1    37.00      NaN      NaN      NaN  TSE  \n",
      "2    40.95        A      NaN      NaN  TSE  \n",
      "3    40.15      NaN      NaN      NaN  TSE  \n",
      "4    36.50      NaN      NaN      NaN  TSE  \n",
      "..     ...      ...      ...      ...  ...  \n",
      "242  51.50      NaN      NaN      NaN  TSE  \n",
      "243  52.60      NaN      NaN      NaN  TSE  \n",
      "244  53.20      NaN      NaN      NaN  TSE  \n",
      "245  53.10      NaN      NaN      NaN  TSE  \n",
      "246  53.20      NaN      NaN      NaN  TSE  \n",
      "\n",
      "[247 rows x 34 columns],             年月日    開盤價(元)    最高價(元)    最低價(元)       收盤價  成交量(千股)    成交值(千元)  \\\n",
      "0    2022/12/27  14310.19  14410.24  14310.19  14328.43  3659061  126379644   \n",
      "1    2022/12/26  14271.20  14301.11  14253.20  14285.13  3106471  113509673   \n",
      "2    2022/12/23  14318.12  14318.12  14192.98  14271.63  4245235  152610855   \n",
      "3    2022/12/22  14323.04  14442.94  14323.04  14442.94  5575432  214352643   \n",
      "4    2022/12/21  14205.06  14291.98  14197.86  14234.40  5608140  224180282   \n",
      "..          ...       ...       ...       ...       ...      ...        ...   \n",
      "242  2022/01/03  18260.23  18379.69  18238.47  18270.51  6970218  331140316   \n",
      "243  2021/12/30  18270.00  18291.25  18216.45  18218.84  6394953  266748554   \n",
      "244  2021/12/29  18209.14  18283.25  18192.86  18248.28  6188965  242588459   \n",
      "245  2021/12/28  18099.71  18197.36  18099.71  18196.81  6288478  262918895   \n",
      "246  2021/12/27  17975.41  18099.78  17975.41  18048.94  6063084  239540561   \n",
      "\n",
      "       報酬率％    週轉率％  流通在外股數(千股)  ...   現金股利率  股價漲跌(元)   高低價差%  次日開盤參考價  次日漲停價  \\\n",
      "0    0.3031  0.2454   747562354  ...  4.7755    43.30  0.7004      NaN    NaN   \n",
      "1    0.0946  0.2129   747562354  ...  4.7899    13.50  0.3357      NaN    NaN   \n",
      "2   -1.1861  0.2671   747562354  ...  4.7941  -171.31  0.8664      NaN    NaN   \n",
      "3    1.4650  0.4393   747562354  ...  4.7373   208.54  0.8423      NaN    NaN   \n",
      "4    0.4543  0.4363   747562359  ...  4.8065    64.37  0.6642      NaN    NaN   \n",
      "..      ...     ...         ...  ...     ...      ...     ...      ...    ...   \n",
      "242  0.2836  0.5939   732739813  ...  2.5115    51.67  0.7751      NaN    NaN   \n",
      "243 -0.1613  0.5652   732517313  ...  2.5189   -29.44  0.4099      NaN    NaN   \n",
      "244  0.2829  0.5457   735155550  ...  2.5135    51.47  0.4967      NaN    NaN   \n",
      "245  0.8193  0.5357   735155550  ...  2.5206   147.87  0.5410      NaN    NaN   \n",
      "246  0.4860  0.5089   735155750  ...  2.5414    87.30  0.6924      NaN    NaN   \n",
      "\n",
      "     次日跌停價  注意股票(A)  處置股票(D)  全額交割(Y)  市場別  \n",
      "0      NaN      NaN      NaN      NaN  TSE  \n",
      "1      NaN      NaN      NaN      NaN  TSE  \n",
      "2      NaN      NaN      NaN      NaN  TSE  \n",
      "3      NaN      NaN      NaN      NaN  TSE  \n",
      "4      NaN      NaN      NaN      NaN  TSE  \n",
      "..     ...      ...      ...      ...  ...  \n",
      "242    NaN      NaN      NaN      NaN  TSE  \n",
      "243    NaN      NaN      NaN      NaN  TSE  \n",
      "244    NaN      NaN      NaN      NaN  TSE  \n",
      "245    NaN      NaN      NaN      NaN  TSE  \n",
      "246    NaN      NaN      NaN      NaN  TSE  \n",
      "\n",
      "[247 rows x 34 columns]]\n"
     ]
    }
   ],
   "source": [
    "# 呼叫xlsx檔\n",
    "timeType = ['日','周', '月', '季', '年']\n",
    "# data2801 = pd.read_excel(\"path[]hw2_TEJ_excel.xlsx\",sheet_name=\"2357華碩\")\n",
    "# data2498 = pd.read_excel(\"hw2_TEJ_excel.xlsx\",sheet_name=\"2498宏達電\")\n",
    "# data9999 = pd.read_excel(\"hw2_TEJ_excel.xlsx\",sheet_name=\"Y9999加權指數\")\n",
    "# file_list = [\"2603.xlsx\", \"2607.xlsx\", \"2608.xlsx\", \"2642.xlsx\", \"5607.xlsx\"]\n",
    "file_list = [\"2609\"+timeType[0]+ \".xlsx\", \"2610\"+timeType[0]+\".xlsx\", \"2612\"+timeType[0]+\".xlsx\", \"Y9999\"+timeType[0]+\".xlsx\"]\n",
    "# list = [\"2603\", \"2607\", \"2608\", \"2642\", \"5607\"]\n",
    "list = [\"2609\", \"2610\", \"2612\", \"Y9999\"]\n",
    "data = [pd.read_excel(os.path.join(path, xlsx_filename)) for xlsx_filename in file_list]\n",
    "print(data)"
   ]
  },
  {
   "cell_type": "code",
   "execution_count": 28,
   "id": "ddb8d953",
   "metadata": {},
   "outputs": [
    {
     "ename": "NameError",
     "evalue": "name 'unicode' is not defined",
     "output_type": "error",
     "traceback": [
      "\u001b[1;31m---------------------------------------------------------------------------\u001b[0m",
      "\u001b[1;31mNameError\u001b[0m                                 Traceback (most recent call last)",
      "Cell \u001b[1;32mIn [28], line 9\u001b[0m\n\u001b[0;32m      6\u001b[0m \u001b[39m# print(data[2])\u001b[39;00m\n\u001b[0;32m      7\u001b[0m \u001b[39m# data[4]['RETURN']=np.log(data[4].loc[:, column_name]) - np.log(data[4].loc[:, column_name].shift(1))\u001b[39;00m\n\u001b[0;32m      8\u001b[0m \u001b[39mfor\u001b[39;00m i \u001b[39min\u001b[39;00m data:\n\u001b[1;32m----> 9\u001b[0m   i[\u001b[39m'\u001b[39m\u001b[39m收盤價(元)\u001b[39m\u001b[39m'\u001b[39m] \u001b[39m=\u001b[39m i[\u001b[39m'\u001b[39;49m\u001b[39m收盤價(元)\u001b[39;49m\u001b[39m'\u001b[39;49m]\u001b[39m.\u001b[39;49mapply(\u001b[39mlambda\u001b[39;49;00m x: unicode(x))\n\u001b[0;32m     10\u001b[0m   i[\u001b[39m'\u001b[39m\u001b[39mRETURN\u001b[39m\u001b[39m'\u001b[39m]\u001b[39m=\u001b[39mnp\u001b[39m.\u001b[39mlog(i\u001b[39m.\u001b[39mloc[:, column_name]) \u001b[39m-\u001b[39m np\u001b[39m.\u001b[39mlog(i\u001b[39m.\u001b[39mloc[:, column_name]\u001b[39m.\u001b[39mshift(\u001b[39m1\u001b[39m))\n\u001b[0;32m     12\u001b[0m \u001b[39mprint\u001b[39m(data)\n",
      "File \u001b[1;32mc:\\Python310\\lib\\site-packages\\pandas\\core\\series.py:4771\u001b[0m, in \u001b[0;36mSeries.apply\u001b[1;34m(self, func, convert_dtype, args, **kwargs)\u001b[0m\n\u001b[0;32m   4661\u001b[0m \u001b[39mdef\u001b[39;00m \u001b[39mapply\u001b[39m(\n\u001b[0;32m   4662\u001b[0m     \u001b[39mself\u001b[39m,\n\u001b[0;32m   4663\u001b[0m     func: AggFuncType,\n\u001b[1;32m   (...)\u001b[0m\n\u001b[0;32m   4666\u001b[0m     \u001b[39m*\u001b[39m\u001b[39m*\u001b[39mkwargs,\n\u001b[0;32m   4667\u001b[0m ) \u001b[39m-\u001b[39m\u001b[39m>\u001b[39m DataFrame \u001b[39m|\u001b[39m Series:\n\u001b[0;32m   4668\u001b[0m     \u001b[39m\"\"\"\u001b[39;00m\n\u001b[0;32m   4669\u001b[0m \u001b[39m    Invoke function on values of Series.\u001b[39;00m\n\u001b[0;32m   4670\u001b[0m \n\u001b[1;32m   (...)\u001b[0m\n\u001b[0;32m   4769\u001b[0m \u001b[39m    dtype: float64\u001b[39;00m\n\u001b[0;32m   4770\u001b[0m \u001b[39m    \"\"\"\u001b[39;00m\n\u001b[1;32m-> 4771\u001b[0m     \u001b[39mreturn\u001b[39;00m SeriesApply(\u001b[39mself\u001b[39;49m, func, convert_dtype, args, kwargs)\u001b[39m.\u001b[39;49mapply()\n",
      "File \u001b[1;32mc:\\Python310\\lib\\site-packages\\pandas\\core\\apply.py:1105\u001b[0m, in \u001b[0;36mSeriesApply.apply\u001b[1;34m(self)\u001b[0m\n\u001b[0;32m   1102\u001b[0m     \u001b[39mreturn\u001b[39;00m \u001b[39mself\u001b[39m\u001b[39m.\u001b[39mapply_str()\n\u001b[0;32m   1104\u001b[0m \u001b[39m# self.f is Callable\u001b[39;00m\n\u001b[1;32m-> 1105\u001b[0m \u001b[39mreturn\u001b[39;00m \u001b[39mself\u001b[39;49m\u001b[39m.\u001b[39;49mapply_standard()\n",
      "File \u001b[1;32mc:\\Python310\\lib\\site-packages\\pandas\\core\\apply.py:1156\u001b[0m, in \u001b[0;36mSeriesApply.apply_standard\u001b[1;34m(self)\u001b[0m\n\u001b[0;32m   1154\u001b[0m     \u001b[39melse\u001b[39;00m:\n\u001b[0;32m   1155\u001b[0m         values \u001b[39m=\u001b[39m obj\u001b[39m.\u001b[39mastype(\u001b[39mobject\u001b[39m)\u001b[39m.\u001b[39m_values\n\u001b[1;32m-> 1156\u001b[0m         mapped \u001b[39m=\u001b[39m lib\u001b[39m.\u001b[39;49mmap_infer(\n\u001b[0;32m   1157\u001b[0m             values,\n\u001b[0;32m   1158\u001b[0m             f,\n\u001b[0;32m   1159\u001b[0m             convert\u001b[39m=\u001b[39;49m\u001b[39mself\u001b[39;49m\u001b[39m.\u001b[39;49mconvert_dtype,\n\u001b[0;32m   1160\u001b[0m         )\n\u001b[0;32m   1162\u001b[0m \u001b[39mif\u001b[39;00m \u001b[39mlen\u001b[39m(mapped) \u001b[39mand\u001b[39;00m \u001b[39misinstance\u001b[39m(mapped[\u001b[39m0\u001b[39m], ABCSeries):\n\u001b[0;32m   1163\u001b[0m     \u001b[39m# GH#43986 Need to do list(mapped) in order to get treated as nested\u001b[39;00m\n\u001b[0;32m   1164\u001b[0m     \u001b[39m#  See also GH#25959 regarding EA support\u001b[39;00m\n\u001b[0;32m   1165\u001b[0m     \u001b[39mreturn\u001b[39;00m obj\u001b[39m.\u001b[39m_constructor_expanddim(\u001b[39mlist\u001b[39m(mapped), index\u001b[39m=\u001b[39mobj\u001b[39m.\u001b[39mindex)\n",
      "File \u001b[1;32mc:\\Python310\\lib\\site-packages\\pandas\\_libs\\lib.pyx:2918\u001b[0m, in \u001b[0;36mpandas._libs.lib.map_infer\u001b[1;34m()\u001b[0m\n",
      "Cell \u001b[1;32mIn [28], line 9\u001b[0m, in \u001b[0;36m<lambda>\u001b[1;34m(x)\u001b[0m\n\u001b[0;32m      6\u001b[0m \u001b[39m# print(data[2])\u001b[39;00m\n\u001b[0;32m      7\u001b[0m \u001b[39m# data[4]['RETURN']=np.log(data[4].loc[:, column_name]) - np.log(data[4].loc[:, column_name].shift(1))\u001b[39;00m\n\u001b[0;32m      8\u001b[0m \u001b[39mfor\u001b[39;00m i \u001b[39min\u001b[39;00m data:\n\u001b[1;32m----> 9\u001b[0m   i[\u001b[39m'\u001b[39m\u001b[39m收盤價(元)\u001b[39m\u001b[39m'\u001b[39m] \u001b[39m=\u001b[39m i[\u001b[39m'\u001b[39m\u001b[39m收盤價(元)\u001b[39m\u001b[39m'\u001b[39m]\u001b[39m.\u001b[39mapply(\u001b[39mlambda\u001b[39;00m x: unicode(x))\n\u001b[0;32m     10\u001b[0m   i[\u001b[39m'\u001b[39m\u001b[39mRETURN\u001b[39m\u001b[39m'\u001b[39m]\u001b[39m=\u001b[39mnp\u001b[39m.\u001b[39mlog(i\u001b[39m.\u001b[39mloc[:, column_name]) \u001b[39m-\u001b[39m np\u001b[39m.\u001b[39mlog(i\u001b[39m.\u001b[39mloc[:, column_name]\u001b[39m.\u001b[39mshift(\u001b[39m1\u001b[39m))\n\u001b[0;32m     12\u001b[0m \u001b[39mprint\u001b[39m(data)\n",
      "\u001b[1;31mNameError\u001b[0m: name 'unicode' is not defined"
     ]
    }
   ],
   "source": [
    "# # Create three stock RETURN\n",
    "# data2357['RETURN']=np.log(data2357.CLOSE) - np.log(data2357.CLOSE.shift(1))\n",
    "# data2498['RETURN']=np.log(data2498.CLOSE) - np.log(data2498.CLOSE.shift(1))\n",
    "# data9999['RETURN']=np.log(data9999.CLOSE) - np.log(data9999.CLOSE.shift(1))\n",
    "column_name = \"收盤價\"\n",
    "# print(data[2])\n",
    "# data[4]['RETURN']=np.log(data[4].loc[:, column_name]) - np.log(data[4].loc[:, column_name].shift(1))\n",
    "for i in data:\n",
    "  i['收盤價(元)'] = i['收盤價(元)'].apply(lambda x: unicode(x))\n",
    "  i['RETURN']=np.log(i.loc[:, column_name]) - np.log(i.loc[:, column_name].shift(1))\n",
    "  \n",
    "print(data)\n",
    "# print(data[0]['RETURN'])"
   ]
  },
  {
   "cell_type": "markdown",
   "id": "ca8aa408",
   "metadata": {},
   "source": [
    "# Descriptive Statistics"
   ]
  },
  {
   "cell_type": "code",
   "execution_count": 219,
   "id": "6995878c",
   "metadata": {},
   "outputs": [
    {
     "name": "stdout",
     "output_type": "stream",
     "text": [
      "0     154.333333\n",
      "1     109.933333\n",
      "2     123.366667\n",
      "3     130.500000\n",
      "4     122.166667\n",
      "         ...    \n",
      "72     30.433333\n",
      "73     29.733333\n",
      "74     26.733333\n",
      "75     34.766667\n",
      "76     29.000000\n",
      "Name: 收盤價(元), Length: 77, dtype: float64\n"
     ]
    }
   ],
   "source": [
    "\n",
    "# print(data[0].loc[:, \"收盤價(元)\"])\n",
    "# print(data[0].loc[:, \"收盤價(元)\"].rolling(3).mean())\n",
    "print(data[0].loc[:, \"收盤價(元)\"].groupby(data[0].index // 3).mean())"
   ]
  },
  {
   "cell_type": "code",
   "execution_count": 220,
   "id": "d10e6693",
   "metadata": {},
   "outputs": [],
   "source": [
    "def descriptive_statistics(x) : \n",
    "    return pd.Series([x.mean(),x.median(),x.std(),x.var(),\n",
    "                      x.kurt(),x.skew(),x.min(),x.max(),x.sum(),\n",
    "                      x.count(),x.quantile(.25), x.quantile(.75)],index=['mean','median',\n",
    "                      'std','var','kurtosis','skewness','min','max','sum',\n",
    "                      'count','25%','75%'])\n",
    "result = []\n",
    "result_description =  []\n",
    "\n",
    "for idx in range(len(data)):\n",
    "  # for semiannual and half year\n",
    "  result.append(pd.DataFrame(data[idx].loc[:, 'RETURN'].groupby(data[idx].index // 6).mean(),columns=['RETURN']))\n",
    "  \n",
    "  # for normal data\n",
    "  # result.append(pd.DataFrame(data[idx], columns=['RETURN']))\n",
    "  \n",
    "  result_description.append(result[idx].apply(descriptive_statistics))\n",
    "\n",
    "result = pd.concat(result, axis = 1)\n",
    "result_description = pd.concat(result_description, axis = 1)\n",
    "\n",
    "result.columns =  list\n",
    "result_description.columns =  list\n",
    "result.to_excel(\"semiannual_return.xlsx\")\n",
    "result_description.to_excel(\"semiannual_description.xlsx\")"
   ]
  },
  {
   "cell_type": "markdown",
   "id": "31372906",
   "metadata": {},
   "source": [
    "# 常見的圖形繪製\n",
    "# (1)直方圖"
   ]
  },
  {
   "cell_type": "code",
   "execution_count": 221,
   "id": "a1fae05e",
   "metadata": {},
   "outputs": [],
   "source": [
    "#呼叫畫圖的套件，利用matplotlib的pyplot.bar功能\n",
    "import matplotlib.pyplot as plt\n",
    "from matplotlib.font_manager import FontProperties"
   ]
  },
  {
   "cell_type": "code",
   "execution_count": 224,
   "id": "b970ad43",
   "metadata": {},
   "outputs": [
    {
     "data": {
      "image/png": "[encoded data removed]",
      "text/plain": [
       "<Figure size 432x288 with 1 Axes>"
      ]
     },
     "metadata": {
      "needs_background": "light"
     },
     "output_type": "display_data"
    },
    {
     "data": {
      "image/png": "[encoded data removed]",
      "text/plain": [
       "<Figure size 432x288 with 1 Axes>"
      ]
     },
     "metadata": {
      "needs_background": "light"
     },
     "output_type": "display_data"
    },
    {
     "data": {
      "image/png": "[encoded data removed]",
      "text/plain": [
       "<Figure size 432x288 with 1 Axes>"
      ]
     },
     "metadata": {
      "needs_background": "light"
     },
     "output_type": "display_data"
    },
    {
     "data": {
      "image/png": "[encoded data removed]",
      "text/plain": [
       "<Figure size 432x288 with 1 Axes>"
      ]
     },
     "metadata": {
      "needs_background": "light"
     },
     "output_type": "display_data"
    },
    {
     "data": {
      "image/png": "[encoded data removed]",
      "text/plain": [
       "<Figure size 432x288 with 1 Axes>"
      ]
     },
     "metadata": {
      "needs_background": "light"
     },
     "output_type": "display_data"
    },
    {
     "data": {
      "text/plain": [
       "<Figure size 432x288 with 0 Axes>"
      ]
     },
     "metadata": {},
     "output_type": "display_data"
    }
   ],
   "source": [
    "#第一種直方圖 #單一圖形\n",
    "unit = \"semiannual\"\n",
    "for idx in  range(len(data)):\n",
    "  plt.hist(data[idx].RETURN, bins= 50)\n",
    "  # plt.xlim(-0.01,0.01)\n",
    "  plt.ylim(0,40)\n",
    "  plt.title(list[idx] + unit)\n",
    "  plt.savefig(\"./\" + list[idx]+ unit +\".png\")\n",
    "  plt.show()\n",
    "  plt.clf()\n",
    "  # plt.gca().xaxis.set_major_locator(0.01)\n",
    "#bins代表直方圖分佈區間個數，range用於設定直方圖的小矩形最大值與最小值"
   ]
  },
  {
   "cell_type": "code",
   "execution_count": 223,
   "id": "e0e4034c",
   "metadata": {},
   "outputs": [
    {
     "data": {
      "image/png": "[encoded data removed]",
      "text/plain": [
       "<Figure size 432x288 with 1 Axes>"
      ]
     },
     "metadata": {
      "needs_background": "light"
     },
     "output_type": "display_data"
    }
   ],
   "source": [
    "#第三種直方圖 \n",
    "# plt.hist(result['2357'],bins=50, density=True,label='2357ASUS return',color='r')\n",
    "# plt.hist(result['2498'],bins=50, density=True,label='2498HTC return',color='g')\n",
    "# plt.hist(result['9999'],bins=50, density=True,label='9999 return',color='b')\n",
    "colorType = ['red','darkorange', 'g', 'dodgerblue','crimson']\n",
    "# print(data[0].RETURN)\n",
    "for idx in range(len(data)):\n",
    "  plt.hist(data[idx].RETURN, bins=50, density=True, label=list[idx],color = colorType[idx])\n",
    "  # plt.xlim(-0.3,0.3)\n",
    "\n",
    "plt.legend()\n",
    "plt.xlabel('Return')\n",
    "plt.ylabel('Probability density')\n",
    "plt.title(\"Return\")\n",
    "plt.savefig(\"./\" + unit +\".png\")"
   ]
  },
  {
   "cell_type": "code",
   "execution_count": null,
   "id": "8a9b11b7",
   "metadata": {},
   "outputs": [],
   "source": []
  }
 ],
 "metadata": {
  "kernelspec": {
   "display_name": "Python 3",
   "language": "python",
   "name": "python3"
  },
  "language_info": {
   "codemirror_mode": {
    "name": "ipython",
    "version": 3
   },
   "file_extension": ".py",
   "mimetype": "text/x-python",
   "name": "python",
   "nbconvert_exporter": "python",
   "pygments_lexer": "ipython3",
   "version": "3.10.3"
  },
  "vscode": {
   "interpreter": {
    "hash": "369f2c481f4da34e4445cda3fffd2e751bd1c4d706f27375911949ba6bb62e1c"
   }
  }
 },
 "nbformat": 4,
 "nbformat_minor": 5
}
